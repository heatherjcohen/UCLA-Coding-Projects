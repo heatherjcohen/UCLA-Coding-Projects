{
 "metadata": {
  "name": "",
  "signature": "sha256:6f952a120040efb174de2ad8f33201ddb869348023a64532fdc0d100e60dc54e"
 },
 "nbformat": 3,
 "nbformat_minor": 0,
 "worksheets": [
  {
   "cells": [
    {
     "cell_type": "code",
     "collapsed": false,
     "input": [
      "var mylocation = 336572358; #dt chicago\n",
      "\n",
      "var feed = new Instafeed({\n",
      "  get: 'location',\n",
      "  locationId: mylocation,\n",
      "\n",
      "  clientId: 'someId', //change this with the client id you get from Instagram\n",
      "\n",
      "  filter: function(image) {\n",
      "    return (image.tags.indexOf('myTag') >= 0);\n",
      "  }\n",
      "});\n",
      "feed.run();"
     ],
     "language": "python",
     "metadata": {},
     "outputs": []
    }
   ],
   "metadata": {}
  }
 ]
}