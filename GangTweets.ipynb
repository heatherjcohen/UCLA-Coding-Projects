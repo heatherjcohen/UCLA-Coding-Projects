{
 "metadata": {
  "name": "",
  "signature": "sha256:f64dfcbe355e15ac08d650f0d5f7c04d6a87fdd898c960f6aba5fc9665b14039"
 },
 "nbformat": 3,
 "nbformat_minor": 0,
 "worksheets": [
  {
   "cells": [
    {
     "cell_type": "code",
     "collapsed": false,
     "input": [
      "from textblob import TextBlob\n",
      "file=open(\"tweets.txt\");\n",
      "t=file.read();\n",
      "\n",
      "t = unicode(t, errors='ignore').upper()\n",
      "t.encode('utf-8')\n",
      "tweets = TextBlob(t)"
     ],
     "language": "python",
     "metadata": {},
     "outputs": [],
     "prompt_number": 2
    },
    {
     "cell_type": "code",
     "collapsed": false,
     "input": [
      "tweets.noun_phrases"
     ],
     "language": "python",
     "metadata": {},
     "outputs": []
    },
    {
     "cell_type": "code",
     "collapsed": false,
     "input": [
      "tweets.sentiment"
     ],
     "language": "python",
     "metadata": {},
     "outputs": []
    },
    {
     "cell_type": "code",
     "collapsed": false,
     "input": [
      "from collections import Counter\n",
      "Counter(tweets.words).most_common(50)"
     ],
     "language": "python",
     "metadata": {},
     "outputs": []
    },
    {
     "cell_type": "code",
     "collapsed": false,
     "input": [],
     "language": "python",
     "metadata": {},
     "outputs": []
    }
   ],
   "metadata": {}
  }
 ]
}