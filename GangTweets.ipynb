{
 "metadata": {
  "name": "",
  "signature": "sha256:a1f89c43c225b623389ec833577128c020a605e56a6a2c4792ba8dbb9c7ea755"
 },
 "nbformat": 3,
 "nbformat_minor": 0,
 "worksheets": [
  {
   "cells": [
    {
     "cell_type": "code",
     "collapsed": false,
     "input": [
      "import json\n",
      "import pandas as pd\n",
      "import matplotlib.pyplot as plt"
     ],
     "language": "python",
     "metadata": {},
     "outputs": [],
     "prompt_number": 2
    },
    {
     "cell_type": "code",
     "collapsed": false,
     "input": [
      "tweets = []\n",
      "try:\n",
      "    for line in open('tweets.txt', 'r'):\n",
      "        if line.strip():\n",
      "            tweets.append(json.loads(line))\n",
      "    \n",
      "except ValueError as detail:  # includes simplejson.decoder.JSONDecodeError\n",
      "    print 'Decoding JSON has failed', detail"
     ],
     "language": "python",
     "metadata": {},
     "outputs": [],
     "prompt_number": 25
    },
    {
     "cell_type": "code",
     "collapsed": false,
     "input": [
      "print len(tweets)"
     ],
     "language": "python",
     "metadata": {},
     "outputs": [
      {
       "output_type": "stream",
       "stream": "stdout",
       "text": [
        "4182\n"
       ]
      }
     ],
     "prompt_number": 26
    },
    {
     "cell_type": "code",
     "collapsed": false,
     "input": [
      "tweet = tweets[0]\n",
      "print tweet.keys()"
     ],
     "language": "python",
     "metadata": {},
     "outputs": [
      {
       "output_type": "stream",
       "stream": "stdout",
       "text": [
        "[u'firstpost_date', u'author', u'url', u'tweet', u'title', u'original_author', u'citation_date', u'metrics', u'highlight', u'type', u'citation_url']\n"
       ]
      }
     ],
     "prompt_number": 27
    },
    {
     "cell_type": "code",
     "collapsed": false,
     "input": [
      "print tweet['tweet'].keys()"
     ],
     "language": "python",
     "metadata": {},
     "outputs": [
      {
       "output_type": "stream",
       "stream": "stdout",
       "text": [
        "[u'contributors', u'truncated', u'text', u'in_reply_to_status_id', u'id', u'favorite_count', u'source', u'retweeted', u'coordinates', u'timestamp_ms', u'entities', u'in_reply_to_screen_name', u'in_reply_to_user_id', u'retweet_count', u'id_str', u'favorited', u'user', u'geo', u'in_reply_to_user_id_str', u'possibly_sensitive', u'lang', u'created_at', u'filter_level', u'in_reply_to_status_id_str', u'place']\n"
       ]
      }
     ],
     "prompt_number": 28
    },
    {
     "cell_type": "code",
     "collapsed": false,
     "input": [
      "print tweet['tweet']['text']"
     ],
     "language": "python",
     "metadata": {},
     "outputs": [
      {
       "output_type": "stream",
       "stream": "stdout",
       "text": [
        "#Jetlounge. #100Days100Nights #NOLA. #CWMB3 https://t.co/0B8c0h1PwS\n"
       ]
      }
     ],
     "prompt_number": 29
    },
    {
     "cell_type": "code",
     "collapsed": false,
     "input": [
      "print tweet['tweet']['retweeted']"
     ],
     "language": "python",
     "metadata": {},
     "outputs": [
      {
       "output_type": "stream",
       "stream": "stdout",
       "text": [
        "False\n"
       ]
      }
     ],
     "prompt_number": 30
    },
    {
     "cell_type": "code",
     "collapsed": false,
     "input": [
      "texts = [tweet['tweet']['text'] for tweet in tweets]"
     ],
     "language": "python",
     "metadata": {},
     "outputs": [],
     "prompt_number": 31
    },
    {
     "cell_type": "code",
     "collapsed": false,
     "input": [
      "no_rt_texts = [tweet['tweet']['text'] for tweet in tweets if tweet['tweet']['text'] not in no_rt_texts]"
     ],
     "language": "python",
     "metadata": {},
     "outputs": [],
     "prompt_number": 64
    },
    {
     "cell_type": "code",
     "collapsed": false,
     "input": [
      "places = []\n",
      "for tweet in tweets:\n",
      "    if tweet['tweet']['place']:\n",
      "        places.append(tweet['tweet']['place']['full_name'])\n",
      "        "
     ],
     "language": "python",
     "metadata": {},
     "outputs": [],
     "prompt_number": 49
    },
    {
     "cell_type": "code",
     "collapsed": false,
     "input": [
      "print places"
     ],
     "language": "python",
     "metadata": {},
     "outputs": [
      {
       "output_type": "stream",
       "stream": "stdout",
       "text": [
        "[u'New Orleans, LA', u'New Orleans, LA', u'New Orleans, LA', u'Los Angeles, CA', u'Los Angeles, CA', u'Benton, AR', u'New York, NY', u'Innsbrook, VA', u'LAPD 77th St Station', u'South Gate, CA', u'New York, NY', u'Los Angeles, CA', u'Brooklyn, NY', u'Los Angeles, CA', u'Riverside, CA', u'Los Angeles, CA', u'Brooklyn, NY', u'Los Angeles, CA', u'Los Angeles, CA', u'Bryant, AR', u'Georgia, USA', u'San Diego, CA', u'Los Angeles, CA', u'Arkansas, USA', u'Westmont, CA', u'Indiana, USA', u'Los Angeles, CA', u'La Mirada, CA', u'San Diego, CA', u'Los Angeles, CA', u'Los Angeles, CA', u'Westmont, CA', u'Westmont, CA', u'West New York, NJ', u'Georgia, USA', u'Los Angeles, CA', u'Los Angeles, CA', u'Westmont, CA', u'San Diego, CA', u'Los Angeles, CA', u'Rancho Cucamonga, CA', u'Rancho Cucamonga, CA', u'West Athens, CA', u'Los Angeles, CA', u'Greensboro, NC', u'West Athens, CA', u'Los Angeles, CA', u'West Hollywood, CA', u'East Los Angeles, CA', u'Los Angeles, CA', u'Angola', u'Los Angeles, CA', u'Lawndale, CA', u'Kilkenny, Ireland', u'Los Angeles, CA', u'Los Angeles, CA', u'Dumas, AR', u'Los Angeles, CA', u'Rancho Cucamonga, CA', u'South Pasadena, CA', u'Bellflower, CA', u'Long Beach, CA', u'Carson, CA', u'Palmdale, CA', u'El Monte, CA', u'Inglewood, CA', u'Los Angeles, CA', u'Pasadena, CA', u'South Gate, CA', u'Los Angeles, CA', u'Torrance, CA', u'Henderson, NV', u'Pamplona, Comunidad Foral de Navarra', u'Los Angeles, CA', u'Los Angeles, CA', u'Greensboro, NC', u'Los Angeles, CA', u'Manhattan, NY', u'Los Angeles, CA', u'San Diego, CA', u'West Athens, CA', u'Los Angeles, CA', u'Saltillo, Coahuila de Zaragoza', u'Los Angeles, CA', u'Inglewood, CA', u'Los Angeles, CA', u'Los Angeles, CA', u'Los Angeles, CA', u'Los Angeles, CA', u'Los Angeles, CA', u'Los Angeles, CA', u'Guanajuato, M\\xe9xico', u'Dallas, TX', u'Long Beach, CA', u'Alpharetta, GA', u'Escondido, CA', u'Kent, OH', u'Los Angeles, CA', u'Virginia Beach, VA', u'Burbank, CA', u'Inglewood, CA', u'Queens, NY', u'Pocatello, ID', u'Walnut, CA', u'Irvine, CA', u'Hesperia, CA', u'East Point, GA', u'Sacramento, CA', u'Paradise, NV', u'Los Angeles, CA', u'Ladera Heights, CA', u'Carson, CA', u'Mississippi, USA', u'Sacramento, CA', u'Knoxville, TN', u'Bellflower, CA', u'West Puente Valley, CA', u'Los Angeles, CA', u'Santa Clarita, CA', u'Bell Gardens, CA', u'Columbus, OH', u'Paramount, CA', u'Hawthorne, CA', u'Gravesend, England', u'Ethekwini, South Africa', u'Los Angeles, CA', u'Los Angeles, CA', u'Southampton, England', u'Belfast, Northern Ireland', u'Kilmaurs, Scotland', u'Carryduff, Northern Ireland', u'Gravesend, England', u'Santa Rosa City, Calabarzon', u'Manhattan, NY', u'Georgia, USA', u'Manhattan, NY', u'Georgia, USA', u'Guildford, England', u'Rowland Heights, CA', u'Buffalo Grove, IL', u'Los Angeles, CA', u'Los Angeles, CA', u'Los Angeles, CA', u'Los Angeles, CA', u'San Francisco, CA', u'Los Angeles, CA', u'Livingston, NJ', u'Los Angeles, CA', u'Los Angeles, CA', u'Los Angeles, CA', u'West Athens, CA', u'Khlong Toei, Bangkok', u'Los Angeles, CA', u'Las Cruces, NM', u'Los Angeles, CA', u'Las Cruces, NM', u'Westminster, CA', u'Los Angeles, CA', u'Westminster, CA', u'Cypress, CA', u'Tottenham, London', u'Tottenham, London', u'Miami, FL', u'Los Angeles, CA', u'Arvada, CO', u'Indiana, USA', u'Suitland, MD', u'Washington, DC', u'Arvada, CO', u'Reno, NV', u'Los Angeles, CA', u'Hounslow, London', u'Indianapolis, IN', u'Houston, TX', u'Georgia, USA', u'Anaheim, CA', u'Puyallup, WA', u'Kent, WA', u'Niles, OH', u'Charlotte, NC', u'Maunawili, HI', u'National Park, NJ', u\"Lao People's Democratic Republic\", u'Inglewood, CA', u'Delano, CA', u'Long Beach, CA', u'Anaheim, CA', u'Long Beach, CA', u'Norwalk, CA', u'Stockholm, Sweden', u'Pomona, CA', u'South Carolina, USA']\n"
       ]
      }
     ],
     "prompt_number": 50
    },
    {
     "cell_type": "code",
     "collapsed": false,
     "input": [
      "print no_rt_texts"
     ],
     "language": "python",
     "metadata": {},
     "outputs": [
      {
       "output_type": "stream",
       "stream": "stdout",
       "text": [
        "[u'A total of 6 people got killed yesterday #100days100nights #LongLiveKP', u'#100Days100Nights they killed the wrong mothafucka \\U0001f634\\U0001f64f', u\"This doesn't even make sense, the R100's made the #100Days100Nights sht, why would they catch bodies in the 100's? https://t.co/uk78jQlE2u\", u'Everyone be careful in Los Angeles #100days100nights', u'#100days100nights in LA is crazy. I hope everyone stays safe.', u'#100days100nights #Alert \\U0001f440\\U0001f633 http://t.co/SWg1zjCv5m', u'Hope all my LA fam stay safe...rollin 100s gotta bet goin...they tryna catch 100 bodies in a 100 days...neutrals &amp; all.. #100days100nights', u'Heartbroken about this #100days100nights issue \\U0001f622 praying for my city.', u\"Everybody please stay safe. I hope no one else gets shot #TRBinLA #100days100nights I don't want anyone getting hurt https://t.co/Htw69EYvAK\", u\"They killing peeps. I hear it's all up and down imperial too, which I live off of! #PrayForLa #100days100nights http://t.co/COVKfgOuCh\", u'Just got warned not to walk around near the weed spot because of #100days100nights... And 2 more dudes just died http://t.co/SgQiT3b1ZY', u\"There's a gang war goin on in LA right now #100days100nights &amp; from what I read, the goal is to kill 100 people (kids included) in 100 days\", u'this #100days100nights shit is wild.', u'LA, just be cool #100days100nights', u'#PrayForLA the Summer heating UP literally,niggas/innocents getting put on t-shirts! #100Days100Nights #SMH http://t.co/dMBxh3GQIf', u'That whole #100days100nights is so upsetting and disappointing', u'#100days100nights stay safe my south central people', u'This whole #100days100nights has me so terrified man', u\"Be safe LA it's real life ugly in the streets right now #100days100nights \\U0001f64f\", u'\\U0001f631\\U0001f631\\U0001f631 #100days100nights  https://t.co/fGcSgVB6dY', u'#100days100nights has me terrified', u'i live right in the middle and metro it back home from work at around 10....fuck this #100days100nights', u'pray for LA \\U0001f64f\\U0001f3fd god bless all of you out there #100days100nights', u'#100days100nights pick me!!!!', u'Wanting justice for all but yet killing one another. Fucking hypocrites if this #100days100nights is true.', u'Lord have mercy on our city . \\u261d #100days100nights http://t.co/6wyGLMTIGP', u'Cuhzho said if you in the field you will get killed @BobbyReefha #100days100nights', u'#100days100nights READ THIS SHIT!!!!!', u'Between all this shit going on with the police and the fact that this #100Days100Nights is able to still happen within all this smh...', u'Pray4LA Be Safe Out There \\U0001f64f\\U0001f3fd#100days100nights', u'My coworker lives in the area of the #100days100nights and she told me that they shot and possibly killed 3 kids all under the age of 15', u\"So sad we live and a day and age where kids can't even go out and play in the middle of the summer because of some BS. #100days100nights\", u'I just gotta block people who are trying to convince me that the #100days100nights is a conspiracy and only gang members are affected.', u'#100days100nights is surreal.', u\"Where's #BlackLivesMatter in all of this ????  #100days100nights .. We can do two things at the same time right ???\", u'#100Days100Nights makes the front page of the @latimes today...interesting. #SouthLA #LAPD http://t.co/U092YMI4cc', u'theres always a bit of truth to moral panics. the prob is when initial small fears are used to justify all subsequent fear #100days100nights', u'Anyways #100days100nights still scares the shit out of me', u'Everybody stop and search #100days100nights hashtag. Why we always gotta do this dumb shit', u'What happens when gangs get off the streets &amp; onto the Internet? My story: http://t.co/ywft0jGrdQ #100days100nights http://t.co/5r3JZXkVcT', u'#100days100nights: Gang threats of violence on social media draw fear http://t.co/tdgolQu43T', u'This is still VERY relevant today #100days100nights http://t.co/mVp8kz8F6v', u'@KNX1070 #100days100nights Since the year 2000 in #LA county alone there has been 4,788 blacks killed to date. #BlackGenocide', u'They expanded the areas everyone now to Crenshaw and Hyde park. And Vernon be safe. Everybody. \\U0001f64f\\U0001f3fe#100days100nights', u\"You guys are confusing this #100days100nights thing. It's not the gangs doing. The cops been doing this shit for years.\", u'LA Gangs vow to kill 100 people in 100 days.  But Diversity is Good... Remember that.\\n\\n#100days100nights  https://t.co/65k5JcgIll', u'Exactly. #100days100nights is #PureCrackpottery https://t.co/x6NR9qAKPZ', u\"Praying for the family's that live in LA right now #100days100nights\", u\"So let me get this straight. We'll talk about Ebola or Bird Flu for hours, dats and weeks, but no mention of #100days100nights ANYWHERE!\", u\"I'm telling yallllllll read the #100days100nights hashtag and yall will really laugh\\U0001f602 these people swear they know what they talking about\\U0001f602\\U0001f602\", u'Why dont we make this bs of #100days100nights about helping those in need! A hundred days a hundred nights give back. Do your part! #', u'Plot twist: Cops are also doing the #100days100nights shit', u'RT @ABC7: Rumored threats of gang violence in South LA spread with #100Days100Nights http://t.co/jgfCCYACDe http://t.co/vqMuDYp5mF', u'@tariqnasheed @MyVoiceY my homie my friend Kejon so innocent man R.I.P #100days100nights ! http://t.co/AzlDqAWrnT', u'HOW ABOUT 100 DAYS OF POSITIVITY&amp; PROGRESSION #100days100nights #PrayForLA', u'#100days100nights is no joke .', u\"I don't get disgusted easily, but #100days100nights makes my heart drop. Even if it's fake, it's still an example of the worst of humanity\", u'I was a former gang member in LA, but i found #jesus so please lay down your guns and pick up a bible.  #100days100nights', u'#100days100nights: LA gangs \\u2018in contest to murder 100 people in 100 days\\u2019 http://t.co/0upM3BqdqT', u'.@FearDept, @SecFear -- good job on #100days100nights! http://t.co/B8V8Q1UKs8', u\"Enough about meek tho #100days100nights  is going on in LA. Let's pray about that  they already killed a kid that was only 4  smh.\", u'This meek and drake beef is trending but there are more important matters at hand...be careful in LA #100days100nights', u'#100DAYS100NIGHTS is fake I promise you niggas is not entertaining that', u'Be safe LA. See anything shady, report it! #100Days100Nights http://t.co/m5eCoiElqz', u'#100days100nights: Gang threats of violence on social media draw fear - LA Times http://t.co/Egn1pBk4V4', u\"Every1 in LA be safe &amp; don't pay attention to that one map they have of  Rollin 100s. It's war all over South Central rn #100days100nights\", u'This The Hottest Shit In LA right now!!!\\U0001f525\\n#100days100nights @SpiffieLuciano &amp; @lilcadipge \\n\\nhttps://t.co/FtnRouxFfp', u\"LA's #100days100nights Gang Murder Bet Is Probably BS - http://t.co/EpTq6rRtHN\", u'Amenazan con #CienD\\xedasCienNoches de terror en Los \\xc1ngeles. #100days100nights http://t.co/FCRr2YaFl9 http://t.co/biVh4Viqby', u'#100Days100Nights: Los Angeles Gangs Using Social Media To Threaten Violence http://t.co/pgnalKXk3J', u'To Be Loved You Must Love \\nAll That You See. #100Days100Nights \\n#HollowKnots #1nsane5tate #PUUNC http://t.co/C3trjb0iJO', u'#100days100nights: LA Gangs are \"In a Contest to Murder 100 People in 100 Days\" http://t.co/WgnGYnICkc', u'#100days100nights: LA Gangs are \\u201cIn a Contest to Murder 100 People in 100 Days\\u201d http://t.co/4MqdnDbRMv', u'Pray for LA smh... Stay off the streets! #100Days100Nights', u\"That's craaazzy if this #100days100nights is real\", u'Thank God idk anyone that has fell victim to this war in my city ! #prayforla #100days100nights', u\"I really hope this #100days100nights thing isn't real.  Fake or real, please be safe in LA especially all my folks in south central \\U0001f64f\", u'Another body #100days100nights \\U0001f602\\U0001f602\\U0001f602\\U0001f602 Drake calling God in church like dear lord let me get another chance \\U0001f602\\U0001f602\\U0001f602\\U0001f602 http://t.co/79f6xzrndM', u'Is #100Days100Nights Just a Threatening Hashtag or a Full-Blown LA Gang War? http://t.co/qgRVJ8f5iQ http://t.co/7Ya7aeS6ns', u'Lots of OGs, activists, gang interventionists out for press conf in #SouthLA on gang violence. #100days100nights http://t.co/O3Ka2Q1g6e', u\"I'll take  #DrakeVsMeek over #100days100nights any day #BlackLivesMatter \\U0001f64f\\U0001f3fe\"]\n"
       ]
      }
     ],
     "prompt_number": 65
    },
    {
     "cell_type": "code",
     "collapsed": false,
     "input": [
      "from sklearn.feature_extraction.text import TfidfVectorizer \n",
      "\n",
      "vect = TfidfVectorizer(stop_words='english', analyzer='word', ngram_range=(1,3), min_df=2)\n",
      "\n",
      "vectorized_corpus = vect.fit_transform(no_rt_texts)"
     ],
     "language": "python",
     "metadata": {},
     "outputs": [],
     "prompt_number": 67
    },
    {
     "cell_type": "code",
     "collapsed": false,
     "input": [
      "from sklearn.decomposition import TruncatedSVD \n",
      "\n",
      "N_COMPONENTS = 50  # feel free to change this if you so desire; typical values are between 50 and 400\n",
      "\n",
      "tsvd = TruncatedSVD(n_components=N_COMPONENTS)\n",
      "\n",
      "embedded_corpus = tsvd.fit_transform(vectorized_corpus)"
     ],
     "language": "python",
     "metadata": {},
     "outputs": [],
     "prompt_number": 68
    },
    {
     "cell_type": "code",
     "collapsed": false,
     "input": [
      "from sklearn.cluster import MiniBatchKMeans \n",
      "\n",
      "N_CLUSTERS = 20  # feel free to experiment with this value, too\n",
      "\n",
      "clstr = MiniBatchKMeans(n_clusters=N_CLUSTERS)\n",
      "clusters = clstr.fit_predict(embedded_corpus)"
     ],
     "language": "python",
     "metadata": {},
     "outputs": [],
     "prompt_number": 69
    },
    {
     "cell_type": "code",
     "collapsed": false,
     "input": [
      "print clusters"
     ],
     "language": "python",
     "metadata": {},
     "outputs": [
      {
       "output_type": "stream",
       "stream": "stdout",
       "text": [
        "[10 10  5  7 18 16  5  0 18  0  3 17  6  3 13  2  5  9  4 19  9 17  7  2  0\n",
        " 16 10  6  6 18  1  1  3  2  8 15  2  6  6 16 12 16 10 18  6 11 19 17  7  7\n",
        "  5  6 16 16 17  2 15  3 11 16  7  7 13 14 12  5 17 16 16 16 16 11 11  7  4\n",
        "  0  4  7  3 16  8]\n"
       ]
      }
     ],
     "prompt_number": 70
    },
    {
     "cell_type": "code",
     "collapsed": false,
     "input": [
      "from collections import defaultdict\n",
      "\n",
      "clusters_to_content = defaultdict(list)\n",
      "\n",
      "for subject, page in zip(no_rt_texts, clusters): \n",
      "    clusters_to_content[page].append(subject)\n",
      "\n",
      "for idx in clusters_to_content: \n",
      "    print(idx)\n",
      "    print(clusters_to_content[idx])\n",
      "    print('\\n')"
     ],
     "language": "python",
     "metadata": {},
     "outputs": [
      {
       "output_type": "stream",
       "stream": "stdout",
       "text": [
        "0\n",
        "[u'Heartbroken about this #100days100nights issue \\U0001f622 praying for my city.', u\"They killing peeps. I hear it's all up and down imperial too, which I live off of! #PrayForLa #100days100nights http://t.co/COVKfgOuCh\", u'Wanting justice for all but yet killing one another. Fucking hypocrites if this #100days100nights is true.', u'Thank God idk anyone that has fell victim to this war in my city ! #prayforla #100days100nights']\n",
        "\n",
        "\n",
        "1\n",
        "[u'My coworker lives in the area of the #100days100nights and she told me that they shot and possibly killed 3 kids all under the age of 15', u\"So sad we live and a day and age where kids can't even go out and play in the middle of the summer because of some BS. #100days100nights\"]\n",
        "\n",
        "\n",
        "2\n",
        "[u'That whole #100days100nights is so upsetting and disappointing', u'#100days100nights pick me!!!!', u'#100days100nights is surreal.', u'theres always a bit of truth to moral panics. the prob is when initial small fears are used to justify all subsequent fear #100days100nights', u'#100days100nights is no joke .']\n",
        "\n",
        "\n",
        "3\n",
        "[u'Just got warned not to walk around near the weed spot because of #100days100nights... And 2 more dudes just died http://t.co/SgQiT3b1ZY', u'LA, just be cool #100days100nights', u'I just gotta block people who are trying to convince me that the #100days100nights is a conspiracy and only gang members are affected.', u'I was a former gang member in LA, but i found #jesus so please lay down your guns and pick up a bible.  #100days100nights', u'Is #100Days100Nights Just a Threatening Hashtag or a Full-Blown LA Gang War? http://t.co/qgRVJ8f5iQ http://t.co/7Ya7aeS6ns']\n",
        "\n",
        "\n",
        "4\n",
        "[u\"Be safe LA it's real life ugly in the streets right now #100days100nights \\U0001f64f\", u\"That's craaazzy if this #100days100nights is real\", u\"I really hope this #100days100nights thing isn't real.  Fake or real, please be safe in LA especially all my folks in south central \\U0001f64f\"]\n",
        "\n",
        "\n",
        "5\n",
        "[u\"This doesn't even make sense, the R100's made the #100Days100Nights sht, why would they catch bodies in the 100's? https://t.co/uk78jQlE2u\", u'Hope all my LA fam stay safe...rollin 100s gotta bet goin...they tryna catch 100 bodies in a 100 days...neutrals &amp; all.. #100days100nights', u'#100days100nights stay safe my south central people', u'Why dont we make this bs of #100days100nights about helping those in need! A hundred days a hundred nights give back. Do your part! #', u\"Every1 in LA be safe &amp; don't pay attention to that one map they have of  Rollin 100s. It's war all over South Central rn #100days100nights\"]\n",
        "\n",
        "\n",
        "6\n",
        "[u'this #100days100nights shit is wild.', u'#100days100nights READ THIS SHIT!!!!!', u'Between all this shit going on with the police and the fact that this #100Days100Nights is able to still happen within all this smh...', u'Anyways #100days100nights still scares the shit out of me', u'Everybody stop and search #100days100nights hashtag. Why we always gotta do this dumb shit', u\"You guys are confusing this #100days100nights thing. It's not the gangs doing. The cops been doing this shit for years.\", u'Plot twist: Cops are also doing the #100days100nights shit']\n",
        "\n",
        "\n",
        "7\n",
        "[u'Everyone be careful in Los Angeles #100days100nights', u'pray for LA \\U0001f64f\\U0001f3fd god bless all of you out there #100days100nights', u\"So let me get this straight. We'll talk about Ebola or Bird Flu for hours, dats and weeks, but no mention of #100days100nights ANYWHERE!\", u\"I'm telling yallllllll read the #100days100nights hashtag and yall will really laugh\\U0001f602 these people swear they know what they talking about\\U0001f602\\U0001f602\", u\"Enough about meek tho #100days100nights  is going on in LA. Let's pray about that  they already killed a kid that was only 4  smh.\", u'This meek and drake beef is trending but there are more important matters at hand...be careful in LA #100days100nights', u'Pray for LA smh... Stay off the streets! #100Days100Nights', u'Another body #100days100nights \\U0001f602\\U0001f602\\U0001f602\\U0001f602 Drake calling God in church like dear lord let me get another chance \\U0001f602\\U0001f602\\U0001f602\\U0001f602 http://t.co/79f6xzrndM']\n",
        "\n",
        "\n",
        "8\n",
        "[u\"Where's #BlackLivesMatter in all of this ????  #100days100nights .. We can do two things at the same time right ???\", u\"I'll take  #DrakeVsMeek over #100days100nights any day #BlackLivesMatter \\U0001f64f\\U0001f3fe\"]\n",
        "\n",
        "\n",
        "9\n",
        "[u'This whole #100days100nights has me so terrified man', u'#100days100nights has me terrified']\n",
        "\n",
        "\n",
        "10\n",
        "[u'A total of 6 people got killed yesterday #100days100nights #LongLiveKP', u'#100Days100Nights they killed the wrong mothafucka \\U0001f634\\U0001f64f', u'Cuhzho said if you in the field you will get killed @BobbyReefha #100days100nights', u'@KNX1070 #100days100nights Since the year 2000 in #LA county alone there has been 4,788 blacks killed to date. #BlackGenocide']\n",
        "\n",
        "\n",
        "11\n",
        "[u'LA Gangs vow to kill 100 people in 100 days.  But Diversity is Good... Remember that.\\n\\n#100days100nights  https://t.co/65k5JcgIll', u'#100days100nights: LA gangs \\u2018in contest to murder 100 people in 100 days\\u2019 http://t.co/0upM3BqdqT', u'#100days100nights: LA Gangs are \"In a Contest to Murder 100 People in 100 Days\" http://t.co/WgnGYnICkc', u'#100days100nights: LA Gangs are \\u201cIn a Contest to Murder 100 People in 100 Days\\u201d http://t.co/4MqdnDbRMv']\n",
        "\n",
        "\n",
        "12\n",
        "[u'#100days100nights: Gang threats of violence on social media draw fear http://t.co/tdgolQu43T', u'#100days100nights: Gang threats of violence on social media draw fear - LA Times http://t.co/Egn1pBk4V4']\n",
        "\n",
        "\n",
        "13\n",
        "[u'#PrayForLA the Summer heating UP literally,niggas/innocents getting put on t-shirts! #100Days100Nights #SMH http://t.co/dMBxh3GQIf', u'#100DAYS100NIGHTS is fake I promise you niggas is not entertaining that']\n",
        "\n",
        "\n",
        "14\n",
        "[u'Be safe LA. See anything shady, report it! #100Days100Nights http://t.co/m5eCoiElqz']\n",
        "\n",
        "\n",
        "15\n",
        "[u'#100Days100Nights makes the front page of the @latimes today...interesting. #SouthLA #LAPD http://t.co/U092YMI4cc', u\"I don't get disgusted easily, but #100days100nights makes my heart drop. Even if it's fake, it's still an example of the worst of humanity\"]\n",
        "\n",
        "\n",
        "16\n",
        "[u'#100days100nights #Alert \\U0001f440\\U0001f633 http://t.co/SWg1zjCv5m', u'Lord have mercy on our city . \\u261d #100days100nights http://t.co/6wyGLMTIGP', u'What happens when gangs get off the streets &amp; onto the Internet? My story: http://t.co/ywft0jGrdQ #100days100nights http://t.co/5r3JZXkVcT', u'This is still VERY relevant today #100days100nights http://t.co/mVp8kz8F6v', u'RT @ABC7: Rumored threats of gang violence in South LA spread with #100Days100Nights http://t.co/jgfCCYACDe http://t.co/vqMuDYp5mF', u'@tariqnasheed @MyVoiceY my homie my friend Kejon so innocent man R.I.P #100days100nights ! http://t.co/AzlDqAWrnT', u'.@FearDept, @SecFear -- good job on #100days100nights! http://t.co/B8V8Q1UKs8', u\"LA's #100days100nights Gang Murder Bet Is Probably BS - http://t.co/EpTq6rRtHN\", u'Amenazan con #CienD\\xedasCienNoches de terror en Los \\xc1ngeles. #100days100nights http://t.co/FCRr2YaFl9 http://t.co/biVh4Viqby', u'#100Days100Nights: Los Angeles Gangs Using Social Media To Threaten Violence http://t.co/pgnalKXk3J', u'To Be Loved You Must Love \\nAll That You See. #100Days100Nights \\n#HollowKnots #1nsane5tate #PUUNC http://t.co/C3trjb0iJO', u'Lots of OGs, activists, gang interventionists out for press conf in #SouthLA on gang violence. #100days100nights http://t.co/O3Ka2Q1g6e']\n",
        "\n",
        "\n",
        "17\n",
        "[u\"There's a gang war goin on in LA right now #100days100nights &amp; from what I read, the goal is to kill 100 people (kids included) in 100 days\", u'i live right in the middle and metro it back home from work at around 10....fuck this #100days100nights', u\"Praying for the family's that live in LA right now #100days100nights\", u'HOW ABOUT 100 DAYS OF POSITIVITY&amp; PROGRESSION #100days100nights #PrayForLA', u'This The Hottest Shit In LA right now!!!\\U0001f525\\n#100days100nights @SpiffieLuciano &amp; @lilcadipge \\n\\nhttps://t.co/FtnRouxFfp']\n",
        "\n",
        "\n",
        "18\n",
        "[u'#100days100nights in LA is crazy. I hope everyone stays safe.', u\"Everybody please stay safe. I hope no one else gets shot #TRBinLA #100days100nights I don't want anyone getting hurt https://t.co/Htw69EYvAK\", u'Pray4LA Be Safe Out There \\U0001f64f\\U0001f3fd#100days100nights', u'They expanded the areas everyone now to Crenshaw and Hyde park. And Vernon be safe. Everybody. \\U0001f64f\\U0001f3fe#100days100nights']\n",
        "\n",
        "\n",
        "19\n",
        "[u'\\U0001f631\\U0001f631\\U0001f631 #100days100nights  https://t.co/fGcSgVB6dY', u'Exactly. #100days100nights is #PureCrackpottery https://t.co/x6NR9qAKPZ']\n",
        "\n",
        "\n"
       ]
      }
     ],
     "prompt_number": 71
    },
    {
     "cell_type": "code",
     "collapsed": false,
     "input": [
      "from collections import Counter\n",
      "Counter(texts).most_common(50)"
     ],
     "language": "python",
     "metadata": {},
     "outputs": [
      {
       "metadata": {},
       "output_type": "pyout",
       "prompt_number": 58,
       "text": [
        "[(u'#100days100nights', 72),\n",
        " (u'#100days100nights #PrayForLA', 9),\n",
        " (u\"LA's #100days100nights Gang Murder Bet Is Probably Bullshit\", 6),\n",
        " (u'#PrayForLA #100days100nights', 6),\n",
        " (u'#100Days100Nights', 4),\n",
        " (u'Pray for LA #100days100nights', 3),\n",
        " (u'#100days100nights: Gang threats of violence on social media draw fear (LA Times) http://t.co/ZvJOEByZNW',\n",
        "  2),\n",
        " (u'#100days100nights: Gang threats of violence on social media draw fear http://t.co/dzOYTtHXFu',\n",
        "  2),\n",
        " (u'#100days100nights: Gang threats of violence on social media draw fear http://t.co/V2sr8KmCKO',\n",
        "  2),\n",
        " (u'#100days100nights: el escalofriante hashtag que estremece a Estados Unidos. http://t.co/ePFA2dQ0L8 v\\xeda @La_Sintesis',\n",
        "  2),\n",
        " (u'#100days100nights: Gang threats of violence on social media draw fear http://t.co/mZ5yRpAmjt',\n",
        "  2),\n",
        " (u'Be safe, Los Angeles. #100days100nights', 2),\n",
        " (u'#100days100nights \\U0001f64f', 2),\n",
        " (u'#100days100nights \\U0001f610', 2),\n",
        " (u'#100days100nights: Gang threats of violence on social media draw fear (LA Times) http://t.co/FuWTxGjsCH',\n",
        "  2),\n",
        " (u'#100days100nights \\U0001f633', 2),\n",
        " (u'PRAY FOR LA #100days100nights', 2),\n",
        " (u\"What if the Purge was a message to us about the #100days100nights and the media wants us to think it's gangsters/thugs doing it. #Trusstttt\",\n",
        "  2),\n",
        " (u'#100days100nights what the hell', 2),\n",
        " (u'#100DAYS100NIGHTS', 2),\n",
        " (u'#prayforLA #100days100nights', 2),\n",
        " (u'This #100Days100Nights like the Purge', 2),\n",
        " (u'stay safe #100days100nights', 2),\n",
        " (u'I think #100days100nights crazy', 2),\n",
        " (u'#100days100nights \\U0001f440', 2),\n",
        " (u'pray. stay aware. stay safe LA. #100days100nights', 2),\n",
        " (u'#100days100nights: Gang threats of violence on #social #media draw fear ... social+media http://t.co/SszooLEFOl',\n",
        "  2),\n",
        " (u'Pray for #100days100nights', 2),\n",
        " (u'#100days100nights: Gang threats of violence on social media draw fear http://t.co/U4Dey9GzI0 #news',\n",
        "  2),\n",
        " (u'Pray for LA \\U0001f64f\\U0001f3fe #100days100nights', 2),\n",
        " (u\"LA's #100days100nights Gang Murder Bet Is Probably Bullshit http://t.co/Z2eRWT39tH via @GizmodoIN\",\n",
        "  2),\n",
        " (u\"LA's #100days100nights Gang Murder Bet Is Probably Bullshit - http://t.co/KEkc1qhWHS\",\n",
        "  2),\n",
        " (u'I suggest yall start rockin blue for a few months #100days100nights', 1),\n",
        " (u'#100days100nights has to be one of  the craziest thing i ever heard smh. #PrayForLA',\n",
        "  1),\n",
        " (u'| #100Days100Nights |  P S A  -@itzdubb \\u270a #AllLivesMatter \\n\\n#Repost @itzdubb\\n\\u30fb\\u30fb\\u30fb\\nPSA 8. https://t.co/I9OIDKkaZU',\n",
        "  1),\n",
        " (u\"If u ain't from LA don't speak on this  #100days100nights\", 1),\n",
        " (u'#100days100nights: Gang threats of violence on social media draw fear \\u2013 LA \\u2026 \\u2013 Los Angeles Times http://t.co/z7yY7CeqEm',\n",
        "  1),\n",
        " (u'#100days100nights: Gang threats of violence on social media draw fear \\u2013 Los Angeles Times http://t.co/ZIyOUm6xQ3',\n",
        "  1),\n",
        " (u\"So why LA really going in with this #100days100nights  thing. Black people already can't breathe, why kill each other by each other?\",\n",
        "  1),\n",
        " (u'They tripping in L.A with that #100days100nights They on some real life purge shit #PrayForLA',\n",
        "  1),\n",
        " (u'i pray God watch over my mama n my cousins livin in the heart of all that static\\U0001f613\\U0001f64f  #100days100nights',\n",
        "  1),\n",
        " (u'@BornSinner what about #100days100nights', 1),\n",
        " (u'praying for everyone in LA! GOD is with you\\U0001f64f\\U0001f3fe #100days100nights stop the violence\\U0001f339',\n",
        "  1),\n",
        " (u\"LA's #100days100nights Gang Murder Bet Is Probably Bullshit - IT Support for Business in... http://t.co/2DgnPXgqzb\",\n",
        "  1),\n",
        " (u\"South central ain't safe\\nWouldn't be surprised if the police are behind those fake accounts makin it worse.\\n#100days100nights\",\n",
        "  1),\n",
        " (u'#100days100nights: Gang threats of violence on social media draw fear \\u2013 Los Angeles Times http://t.co/PknhqC8mvl',\n",
        "  1),\n",
        " (u'What is wrong with murica, fuck it lets shoot everyone pew pew pew\\U0001f52b #100days100nights',\n",
        "  1),\n",
        " (u'Is #100Days100Nights Just a Threatening Hashtag or a Full-Blown LA Gang War? | VICE | United States http://t.co/2IvD7y8EqX',\n",
        "  1),\n",
        " (u'#100days100nights PRAY 4 LA ALL LIVES MATTER. STAY SAFE OUT THERE IN LOS ANGELES. YO MY PLAYA PATNAS OUT IN LA. STAY SAFE.',\n",
        "  1),\n",
        " (u'Yo white people in Montana be hitting up the local police station asking if they should take any precautions for the #100days100nights',\n",
        "  1)]"
       ]
      }
     ],
     "prompt_number": 58
    },
    {
     "cell_type": "code",
     "collapsed": false,
     "input": [
      "from collections import Counter\n",
      "Counter(places).most_common(50)"
     ],
     "language": "python",
     "metadata": {},
     "outputs": [
      {
       "metadata": {},
       "output_type": "pyout",
       "prompt_number": 63,
       "text": [
        "[(u'Los Angeles, CA', 53),\n",
        " (u'Georgia, USA', 5),\n",
        " (u'Inglewood, CA', 4),\n",
        " (u'West Athens, CA', 4),\n",
        " (u'San Diego, CA', 4),\n",
        " (u'Long Beach, CA', 4),\n",
        " (u'Westmont, CA', 4),\n",
        " (u'Rancho Cucamonga, CA', 3),\n",
        " (u'Manhattan, NY', 3),\n",
        " (u'New Orleans, LA', 3),\n",
        " (u'Arvada, CO', 2),\n",
        " (u'Las Cruces, NM', 2),\n",
        " (u'South Gate, CA', 2),\n",
        " (u'Anaheim, CA', 2),\n",
        " (u'Brooklyn, NY', 2),\n",
        " (u'Sacramento, CA', 2),\n",
        " (u'Indiana, USA', 2),\n",
        " (u'Westminster, CA', 2),\n",
        " (u'Tottenham, London', 2),\n",
        " (u'Gravesend, England', 2),\n",
        " (u'New York, NY', 2),\n",
        " (u'Bellflower, CA', 2),\n",
        " (u'Greensboro, NC', 2),\n",
        " (u'Carson, CA', 2),\n",
        " (u'Guildford, England', 1),\n",
        " (u'Southampton, England', 1),\n",
        " (u'Knoxville, TN', 1),\n",
        " (u'Ladera Heights, CA', 1),\n",
        " (u'Washington, DC', 1),\n",
        " (u'Innsbrook, VA', 1),\n",
        " (u'Delano, CA', 1),\n",
        " (u'Arkansas, USA', 1),\n",
        " (u'Khlong Toei, Bangkok', 1),\n",
        " (u'Livingston, NJ', 1),\n",
        " (u'East Los Angeles, CA', 1),\n",
        " (u'Palmdale, CA', 1),\n",
        " (u'Pomona, CA', 1),\n",
        " (u'Santa Clarita, CA', 1),\n",
        " (u'Reno, NV', 1),\n",
        " (u'Houston, TX', 1),\n",
        " (u'Alpharetta, GA', 1),\n",
        " (u'Henderson, NV', 1),\n",
        " (u'Kent, OH', 1),\n",
        " (u'Belfast, Northern Ireland', 1),\n",
        " (u'Guanajuato, M\\xe9xico', 1),\n",
        " (u'Queens, NY', 1),\n",
        " (u'Pocatello, ID', 1),\n",
        " (u'Hawthorne, CA', 1),\n",
        " (u'South Pasadena, CA', 1),\n",
        " (u'Stockholm, Sweden', 1)]"
       ]
      }
     ],
     "prompt_number": 63
    },
    {
     "cell_type": "code",
     "collapsed": false,
     "input": [
      "from textblob import TextBlob\n",
      "strtexts = str(texts).lower()\n",
      "blob = TextBlob(strtexts)"
     ],
     "language": "python",
     "metadata": {},
     "outputs": [],
     "prompt_number": 76
    },
    {
     "cell_type": "code",
     "collapsed": false,
     "input": [
      "Counter(blob.words).most_common(50)"
     ],
     "language": "python",
     "metadata": {},
     "outputs": [
      {
       "metadata": {},
       "output_type": "pyout",
       "prompt_number": 77,
       "text": [
        "[('100days100nights', 4167),\n",
        " ('u', 2851),\n",
        " ('http', 2113),\n",
        " ('gang', 1307),\n",
        " ('of', 1217),\n",
        " ('on', 1151),\n",
        " ('la', 1123),\n",
        " ('in', 1040),\n",
        " ('media', 996),\n",
        " ('social', 975),\n",
        " ('violence', 952),\n",
        " ('is', 951),\n",
        " ('fear', 926),\n",
        " ('threats', 881),\n",
        " ('the', 868),\n",
        " ('to', 854),\n",
        " ('draw', 849),\n",
        " ('los', 733),\n",
        " ('angeles', 720),\n",
        " ('times', 655),\n",
        " ('u2013', 592),\n",
        " ('a', 529),\n",
        " ('this', 483),\n",
        " (\"'s\", 479),\n",
        " ('100', 459),\n",
        " ('i', 420),\n",
        " ('for', 376),\n",
        " ('people', 374),\n",
        " ('and', 358),\n",
        " ('murder', 349),\n",
        " ('gangs', 330),\n",
        " ('bet', 304),\n",
        " ('be', 300),\n",
        " ('you', 281),\n",
        " ('safe', 273),\n",
        " ('it', 269),\n",
        " (\"n't\", 269),\n",
        " ('https', 264),\n",
        " ('that', 251),\n",
        " ('are', 239),\n",
        " ('bullshit', 237),\n",
        " ('probably', 227),\n",
        " ('south', 217),\n",
        " ('my', 207),\n",
        " ('prayforla', 207),\n",
        " ('l.a', 204),\n",
        " ('shit', 203),\n",
        " ('real', 186),\n",
        " ('out', 183),\n",
        " ('all', 176)]"
       ]
      }
     ],
     "prompt_number": 77
    },
    {
     "cell_type": "code",
     "collapsed": false,
     "input": [
      "Counter(blob.noun_phrases).most_common(20)"
     ],
     "language": "python",
     "metadata": {},
     "outputs": [
      {
       "metadata": {},
       "output_type": "pyout",
       "prompt_number": 78,
       "text": [
        "[(u'# 100days100nights', 2171),\n",
        " (u'social media', 904),\n",
        " (u'gang threats', 864),\n",
        " (u'\\\\u2013 los angeles times http', 479),\n",
        " (u\"'s # 100days100nights gang murder\", 206),\n",
        " (u'... http', 127),\n",
        " (u'bullshit http', 124),\n",
        " (u'# 100days100nights http', 83),\n",
        " (u'los angeles times http', 62),\n",
        " (u'don\\\\u2019t need', 58),\n",
        " (u\"i 'm\", 56),\n",
        " (u'# 100days100nights thing', 56),\n",
        " (u'# 100days100nights shit', 54),\n",
        " (u'vicious feuds', 54),\n",
        " (u'\\\\u2026 \\\\u2013 los angeles times http', 49),\n",
        " (u'street gangs', 41),\n",
        " (u'# 100days100nights hashtag', 40),\n",
        " (u'los angeles', 37),\n",
        " (u\"u'is # 100days100nights\", 33),\n",
        " (u'gang war', 33)]"
       ]
      }
     ],
     "prompt_number": 78
    },
    {
     "cell_type": "code",
     "collapsed": false,
     "input": [
      "Counter(blob.sentences).most_common(10)"
     ],
     "language": "python",
     "metadata": {},
     "outputs": [
      {
       "metadata": {},
       "output_type": "pyout",
       "prompt_number": 82,
       "text": [
        "[(Sentence(\"no one\\u2019s safe!\"), 16),\n",
        " (Sentence(\"spread the word .\"), 5),\n",
        " (Sentence(\"be safe la.\"), 3),\n",
        " (Sentence(\"#100days100nights is no joke.\"), 3),\n",
        " (Sentence(\"stay safe la.\"), 3),\n",
        " (Sentence(\"', u'l.a.\"), 2),\n",
        " (Sentence(\".\"), 2),\n",
        " (Sentence(\"stop the violence.\"), 2),\n",
        " (Sentence(\"what?\"), 2),\n",
        " (Sentence(\"#100days100nights?\"), 2)]"
       ]
      }
     ],
     "prompt_number": 82
    },
    {
     "cell_type": "code",
     "collapsed": false,
     "input": [
      "blob.sentiment"
     ],
     "language": "python",
     "metadata": {},
     "outputs": [
      {
       "metadata": {},
       "output_type": "pyout",
       "prompt_number": 83,
       "text": [
        "Sentiment(polarity=0.011089041928717786, subjectivity=0.443062427437876)"
       ]
      }
     ],
     "prompt_number": 83
    },
    {
     "cell_type": "code",
     "collapsed": false,
     "input": [],
     "language": "python",
     "metadata": {},
     "outputs": []
    }
   ],
   "metadata": {}
  }
 ]
}