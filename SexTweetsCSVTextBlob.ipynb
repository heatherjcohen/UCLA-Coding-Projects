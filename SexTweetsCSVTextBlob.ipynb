{
 "metadata": {
  "name": "",
  "signature": "sha256:06b993b730da2a7d345b70f1c35fddc7c067767469ba63f4c5c0d6d5793831e9"
 },
 "nbformat": 3,
 "nbformat_minor": 0,
 "worksheets": [
  {
   "cells": [
    {
     "cell_type": "code",
     "collapsed": false,
     "input": [
      "import pandas as pd\n",
      "import csv\n",
      "df = pd.read_csv('tweets_0001_1000.csv')\n",
      "saved_column1 = df.text\n",
      "print saved_column1"
     ],
     "language": "python",
     "metadata": {},
     "outputs": [
      {
       "output_type": "stream",
       "stream": "stdout",
       "text": [
        "0                                S.O.S = Sleep Over Sex\n",
        "1                 @iChokeRocks yea he is officially gay\n",
        "2                          No Condom No Sex be my Motto\n",
        "3                                      Sex = fight over\n",
        "4                   Gunna deny me sex lol #BitchSwereve\n",
        "5                       Sex sex sex sex sex sex sex sex\n",
        "6     My class about Anne Frank has suddenly turned ...\n",
        "7     why do boys want sex so fucking bad? shits not...\n",
        "8     @Kollsvein Personal time. Sex in general would...\n",
        "9     Fuck everything that happens in the morning if...\n",
        "10    @OscarBeWavyy I cum ot at 10.. U cn find me at...\n",
        "11    maria asking me for sex from daddy #knowme lma...\n",
        "12    I'm at Gay Wad House (Milwaukee, WI) http://t....\n",
        "13                                        Sex is fun :D\n",
        "14    Might miss Mindset because of an unexpected ga...\n",
        "...\n",
        "981                          @WaliKallace thank you bb \ufffd\n",
        "982        Ew, do not compare me to every other gay guy.\n",
        "983    jfc this movie is like entirely made up of awk...\n",
        "984    Now a days, either you [ ] got a baby,   [ ] a...\n",
        "985                          Dolphins are gay sharks lol\n",
        "986    Cuddling with your boyfriend when his dad walk...\n",
        "987    If i was president i would kill all gay dudes ...\n",
        "988    @KonyayWest lil honesty we sound gay aF right ...\n",
        "989                       @Jayybeaa awww thank you bb :)\n",
        "990    \ufffd@_italianICE: sex that lasts for hours &gt;&g...\n",
        "991    Her heart ain't my focus don't wanna hurt it n...\n",
        "992    I'm one more gay black kid getting punched in ...\n",
        "993                   So its raining :/ yeah this is gay\n",
        "994    @INKLLY is my twitter crush...but shhh, keep i...\n",
        "995    The war against the sexes is over. We won once...\n",
        "Name: text, Length: 996, dtype: object\n"
       ]
      }
     ],
     "prompt_number": 16
    },
    {
     "cell_type": "code",
     "collapsed": false,
     "input": [
      "import pandas as pd\n",
      "import csv\n",
      "df = pd.read_csv('tweets_1001_5000.csv')\n",
      "saved_column2 = df.text"
     ],
     "language": "python",
     "metadata": {},
     "outputs": [],
     "prompt_number": 11
    },
    {
     "cell_type": "code",
     "collapsed": false,
     "input": [
      "import pandas as pd\n",
      "import csv\n",
      "df = pd.read_csv('tweets_5001_7000_sean.csv')\n",
      "saved_column3 = df.text\n",
      "print saved_column3"
     ],
     "language": "python",
     "metadata": {},
     "outputs": [
      {
       "output_type": "stream",
       "stream": "stdout",
       "text": [
        "0     gays n' madonna  @ sunshine city http://t.co/3...\n",
        "1     @MichelleGiambri gay hangout with mebtmmrw i d...\n",
        "2     #WomenCantStand when all the cute guys turn ou...\n",
        "3     @WhO_DaT_TriNi yes bb unfortunately ur brother...\n",
        "4                                                  Gay.\n",
        "5     Excellent question!*arms crossed, waiting* -&g...\n",
        "6     @MRL_15 don't forget the sleep you need after ...\n",
        "7     RT @AmusingTruths In India, it is cheaper to h...\n",
        "8     Cooking a nigga breakfast after sex,is like a ...\n",
        "9     I had a scary dream where like everyone turned...\n",
        "10            You're really gay if you say \"guess what\"\n",
        "11                      @AnonymousAutumn the gay store?\n",
        "12    @ChadMHorn I'm Bi and I'm deciding to call you...\n",
        "13    @Copeland__ I'd rather suck a tit than a dick ...\n",
        "14             Yoohoo after sex&gt;&gt;&gt;&gt; #clutch\n",
        "...\n",
        "1985    If you messaging me talking about sex, fuck ou...\n",
        "1986                     @cassidyreneeee you're gay... AF\n",
        "1987    Ive had one girl to make me stutter after n du...\n",
        "1988    \"@Tito8aLA: Twitter &gt; food &gt; money &gt; ...\n",
        "1989                         @yourshoulders cum sea jamez\n",
        "1990    \"I'm voting for Obama because Romney's a douch...\n",
        "1991                               Y despu_s va a ser gay\n",
        "1992    dese niggas playin bout makin money so wen dat...\n",
        "1993                                          Nigga u gay\n",
        "1994    \ufffd@huffpostgay: NFL Player tweets \"faggot,\" say...\n",
        "1995    \ufffd@SeunMilli: Females talking bout their sex on...\n",
        "1996    Thanks for sharing \ufffd@XSTROLOGY: #Aries cum fir...\n",
        "1997                   No sex bitch just neck bitch #keef\n",
        "1998    \"Don't have sex because you will get a hoochie...\n",
        "1999      #FavoriteMeanGirlsQuote Hes too gay to function\n",
        "Name: text, Length: 2000, dtype: object\n"
       ]
      }
     ],
     "prompt_number": 13
    },
    {
     "cell_type": "code",
     "collapsed": false,
     "input": [
      "import pandas as pd\n",
      "import csv\n",
      "df = pd.read_csv('tweets_hiv.csv')\n",
      "saved_column4 = df.text\n",
      "print saved_column4"
     ],
     "language": "python",
     "metadata": {},
     "outputs": [
      {
       "output_type": "stream",
       "stream": "stdout",
       "text": [
        "0                                S.O.S = Sleep Over Sex\n",
        "1                 @iChokeRocks yea he is officially gay\n",
        "2                          No Condom No Sex be my Motto\n",
        "3                                      Sex = fight over\n",
        "4                   Gunna deny me sex lol #BitchSwereve\n",
        "5                       Sex sex sex sex sex sex sex sex\n",
        "6     My class about Anne Frank has suddenly turned ...\n",
        "7     why do boys want sex so fucking bad? shits not...\n",
        "8     @Kollsvein Personal time. Sex in general would...\n",
        "9     Fuck everything that happens in the morning if...\n",
        "10    @OscarBeWavyy I cum ot at 10.. U cn find me at...\n",
        "11    maria asking me for sex from daddy #knowme lma...\n",
        "12    I'm at Gay Wad House (Milwaukee, WI) http://t....\n",
        "13                                        Sex is fun :D\n",
        "14    Might miss Mindset because of an unexpected ga...\n",
        "...\n",
        "8525    @She_Wants_The_G on the dl I'm being kinda pat...\n",
        "8526          @__SuchALadyyy Naw I Made Da Freaks Cum Out\n",
        "8527    A good relationship needs at least 5 ingredien...\n",
        "8528    Ohhh let's take about sex came on!!! Wooooowoo...\n",
        "8529             When I do have sex it will be with my bf\n",
        "8530    Walking around the gay capital of the united s...\n",
        "8531                #TopSongsIDHaveSexTo Sex- Chris Brown\n",
        "8532    @FittedN_SnapBKs me too so wen u find a spot c...\n",
        "8533    Withholding sex from your man as punishment me...\n",
        "8534            Protect the unprotected, sex the unsexed,\n",
        "8535    Thanks @MrRPMurphy for taking away the best an...\n",
        "8536    @raaaaaaaaachelZ Bitch, I'm gonna throw a sex ...\n",
        "8537    My mom said she's not driving me anywhere this...\n",
        "8538                                    @SIRtheKID is gay\n",
        "8539    I hate when in a relationship a girl gives the...\n",
        "Name: text, Length: 8540, dtype: object\n"
       ]
      }
     ],
     "prompt_number": 15
    },
    {
     "cell_type": "code",
     "collapsed": false,
     "input": [
      "from textblob import TextBlob\n",
      "tweetstr = str(saved_column4)\n",
      "tweets = TextBlob(tweetstr)"
     ],
     "language": "python",
     "metadata": {},
     "outputs": [],
     "prompt_number": 20
    },
    {
     "cell_type": "code",
     "collapsed": false,
     "input": [
      "tweets.noun_phrases"
     ],
     "language": "python",
     "metadata": {},
     "outputs": [
      {
       "metadata": {},
       "output_type": "pyout",
       "prompt_number": 21,
       "text": [
        "WordList(['s.o.s', 'sleep', 'sex', u'@ ichokerocks yea', 'condom', 'sex', 'motto', 'sex', u'= fight', 'gunna', u'sex lol #', 'bitchswereve', 'sex', u'sex sex sex sex sex sex sex', u'anne frank', u'kollsvein personal', 'sex', 'fuck', 'oscarbewavyy', u'cum ot', u'daddy # knowme lma ...', u'gay wad', 'milwaukee', 'wi', u'//t ...', 'sex', 'might', 'mindset', u'unexpected ga ... ...', 'she_wants_the_g', u'pat ...', u'@ __suchaladyyy', 'naw', u'made da freaks cum', u'good relationship', u'ingredien ...', 'ohhh', 'wooooowoo', 'walking', u'gay capital', u's ...', u'topsongsidhavesexto sex- chris brown', 'fittedn_snapbks', u'wen u', u'spot c ...', 'withholding', 'protect', 'thanks', 'mrrpmurphy', u'@ raaaaaaaaachelz', 'bitch', u\"'m gon na\", u'sex ...', 'sirthekid', 'name', 'length'])"
       ]
      }
     ],
     "prompt_number": 21
    },
    {
     "cell_type": "code",
     "collapsed": false,
     "input": [
      "tweets.sentiment"
     ],
     "language": "python",
     "metadata": {},
     "outputs": [
      {
       "metadata": {},
       "output_type": "pyout",
       "prompt_number": 22,
       "text": [
        "Sentiment(polarity=0.18504050925925927, subjectivity=0.5666666666666668)"
       ]
      }
     ],
     "prompt_number": 22
    },
    {
     "cell_type": "code",
     "collapsed": false,
     "input": [
      "tweets.words.count"
     ],
     "language": "python",
     "metadata": {},
     "outputs": [
      {
       "metadata": {},
       "output_type": "pyout",
       "prompt_number": 24,
       "text": [
        "<bound method WordList.count of WordList(['0', 'S.O.S', 'Sleep', 'Over', 'Sex', '1', 'iChokeRocks', 'yea', 'he', 'is', 'officially', 'gay', '2', 'No', 'Condom', 'No', 'Sex', 'be', 'my', 'Motto', '3', 'Sex', 'fight', 'over', '4', 'Gunna', 'deny', 'me', 'sex', 'lol', 'BitchSwereve', '5', 'Sex', 'sex', 'sex', 'sex', 'sex', 'sex', 'sex', 'sex', '6', 'My', 'class', 'about', 'Anne', 'Frank', 'has', 'suddenly', 'turned', '7', 'why', 'do', 'boys', 'want', 'sex', 'so', 'fucking', 'bad', 'shits', 'not', '8', 'Kollsvein', 'Personal', 'time', 'Sex', 'in', 'general', 'would', '9', 'Fuck', 'everything', 'that', 'happens', 'in', 'the', 'morning', 'if', '10', 'OscarBeWavyy', 'I', 'cum', 'ot', 'at', '10', 'U', 'cn', 'find', 'me', 'at', '11', 'maria', 'asking', 'me', 'for', 'sex', 'from', 'daddy', 'knowme', 'lma', '12', 'I', \"'m\", 'at', 'Gay', 'Wad', 'House', 'Milwaukee', 'WI', 'http', 't', '13', 'Sex', 'is', 'fun', 'D', '14', 'Might', 'miss', 'Mindset', 'because', 'of', 'an', 'unexpected', 'ga', '8525', 'She_Wants_The_G', 'on', 'the', 'dl', 'I', \"'m\", 'being', 'kinda', 'pat', '8526', 'SuchALadyyy', 'Naw', 'I', 'Made', 'Da', 'Freaks', 'Cum', 'Out', '8527', 'A', 'good', 'relationship', 'needs', 'at', 'least', '5', 'ingredien', '8528', 'Ohhh', 'let', \"'s\", 'take', 'about', 'sex', 'came', 'on', 'Wooooowoo', '8529', 'When', 'I', 'do', 'have', 'sex', 'it', 'will', 'be', 'with', 'my', 'bf', '8530', 'Walking', 'around', 'the', 'gay', 'capital', 'of', 'the', 'united', 's', '8531', 'TopSongsIDHaveSexTo', 'Sex', 'Chris', 'Brown', '8532', 'FittedN_SnapBKs', 'me', 'too', 'so', 'wen', 'u', 'find', 'a', 'spot', 'c', '8533', 'Withholding', 'sex', 'from', 'your', 'man', 'as', 'punishment', 'me', '8534', 'Protect', 'the', 'unprotected', 'sex', 'the', 'unsexed', '8535', 'Thanks', 'MrRPMurphy', 'for', 'taking', 'away', 'the', 'best', 'an', '8536', 'raaaaaaaaachelZ', 'Bitch', 'I', \"'m\", 'gon', 'na', 'throw', 'a', 'sex', '8537', 'My', 'mom', 'said', 'she', \"'s\", 'not', 'driving', 'me', 'anywhere', 'this', '8538', 'SIRtheKID', 'is', 'gay', '8539', 'I', 'hate', 'when', 'in', 'a', 'relationship', 'a', 'girl', 'gives', 'the', 'Name', 'text', 'Length', '8540', 'dtype', 'object'])>"
       ]
      }
     ],
     "prompt_number": 24
    },
    {
     "cell_type": "code",
     "collapsed": false,
     "input": [],
     "language": "python",
     "metadata": {},
     "outputs": []
    }
   ],
   "metadata": {}
  }
 ]
}