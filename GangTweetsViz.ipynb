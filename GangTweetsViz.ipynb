{
 "metadata": {
  "name": "",
  "signature": "sha256:c31a83d118d1fd0d6b494543ac145b79363dee67e1bb5b37cda3e0e25b67b952"
 },
 "nbformat": 3,
 "nbformat_minor": 0,
 "worksheets": [
  {
   "cells": [
    {
     "cell_type": "code",
     "collapsed": false,
     "input": [
      "import json\n",
      "import pandas as pd\n",
      "import matplotlib.pyplot as plt\n",
      "%matplotlib inline\n",
      "import numpy as np"
     ],
     "language": "python",
     "metadata": {},
     "outputs": [],
     "prompt_number": 6
    },
    {
     "cell_type": "code",
     "collapsed": false,
     "input": [
      "tweets = []\n",
      "try:\n",
      "    for line in open('tweets.txt', 'r'):\n",
      "        if line.strip():\n",
      "            tweets.append(json.loads(line))\n",
      "    \n",
      "except ValueError as detail:  # includes simplejson.decoder.JSONDecodeError\n",
      "    print 'Decoding JSON has failed', detail"
     ],
     "language": "python",
     "metadata": {},
     "outputs": [],
     "prompt_number": 2
    },
    {
     "cell_type": "code",
     "collapsed": false,
     "input": [
      "texts = [tweet['tweet']['text'] for tweet in tweets]\n",
      "import time\n",
      "times = []\n",
      "for tweet in tweets:\n",
      "    #times.append(tweet['tweet']['text'])\n",
      "    times.append(time.strftime('%Y-%m-%d', time.localtime(tweet['firstpost_date'])))"
     ],
     "language": "python",
     "metadata": {},
     "outputs": [],
     "prompt_number": 3
    },
    {
     "cell_type": "code",
     "collapsed": false,
     "input": [
      "df = pd.DataFrame({'Texts':texts}, index=times,) "
     ],
     "language": "python",
     "metadata": {},
     "outputs": [],
     "prompt_number": 4
    },
    {
     "cell_type": "code",
     "collapsed": false,
     "input": [
      "df2 =df.groupby([df.index]).count()"
     ],
     "language": "python",
     "metadata": {},
     "outputs": [],
     "prompt_number": 8
    },
    {
     "cell_type": "code",
     "collapsed": false,
     "input": [
      "print df2"
     ],
     "language": "python",
     "metadata": {},
     "outputs": [
      {
       "output_type": "stream",
       "stream": "stdout",
       "text": [
        "            Texts\n",
        "2015-07-01      2\n",
        "2015-07-02      2\n",
        "2015-07-06      1\n",
        "2015-07-07      1\n",
        "2015-07-08      1\n",
        "2015-07-09      1\n",
        "2015-07-11      1\n",
        "2015-07-13      1\n",
        "2015-07-15      1\n",
        "2015-07-18      5\n",
        "2015-07-19      3\n",
        "2015-07-20      5\n",
        "2015-07-21      5\n",
        "2015-07-22      9\n",
        "2015-07-23     15\n",
        "2015-07-24     30\n",
        "2015-07-25     62\n",
        "2015-07-26    171\n",
        "2015-07-27   1189\n",
        "2015-07-28   1033\n",
        "2015-07-29    859\n",
        "2015-07-30    567\n",
        "2015-07-31    218\n"
       ]
      }
     ],
     "prompt_number": 9
    },
    {
     "cell_type": "code",
     "collapsed": false,
     "input": [
      "df.groupby([df.index]).count().plot(kind='bar')"
     ],
     "language": "python",
     "metadata": {},
     "outputs": [
      {
       "metadata": {},
       "output_type": "pyout",
       "prompt_number": 10,
       "text": [
        "<matplotlib.axes._subplots.AxesSubplot at 0x10fab3dd0>"
       ]
      },
      {
       "metadata": {},
       "output_type": "display_data",
       "png": "[encoded data removed]",
       "text": [
        "<matplotlib.figure.Figure at 0x10fab3a10>"
       ]
      }
     ],
     "prompt_number": 10
    },
    {
     "cell_type": "code",
     "collapsed": false,
     "input": [
      "import re\n",
      "\n",
      "vcounts = []\n",
      "try:\n",
      "    for line in texts:\n",
      "        vcounts.append(line.count('violence', re.IGNORECASE))\n",
      "    \n",
      "except ValueError as detail:  \n",
      "    print 'fail?', detail\n",
      "    \n",
      "print len(vcounts)\n",
      "\n",
      "mcounts = []\n",
      "try:\n",
      "    for line in texts:\n",
      "        mcounts.append(line.count('murder', re.IGNORECASE))\n",
      "    \n",
      "except ValueError as detail:  \n",
      "    print 'fail?', detail\n",
      "    \n",
      "print len(mcounts)\n",
      "\n",
      "kcounts = []\n",
      "try:\n",
      "    for line in texts:\n",
      "        kcounts.append(line.count('kill', re.IGNORECASE))\n",
      "    \n",
      "except ValueError as detail:  \n",
      "    print 'fail?', detail\n",
      "    \n",
      "    \n",
      "kkcounts = []\n",
      "try:\n",
      "    for line in texts:\n",
      "        kkcounts.append(line.count('killing', re.IGNORECASE))\n",
      "    \n",
      "except ValueError as detail:  \n",
      "    print 'fail?', detail"
     ],
     "language": "python",
     "metadata": {},
     "outputs": [
      {
       "output_type": "stream",
       "stream": "stdout",
       "text": [
        "4182\n",
        "4182\n"
       ]
      }
     ],
     "prompt_number": 12
    },
    {
     "cell_type": "code",
     "collapsed": false,
     "input": [
      "df3 = pd.DataFrame({ 'Violence Count':vcounts, 'Murder Count':mcounts, 'Kill Counts':kcounts, \"Killing Counts\":kkcounts}, index=times) "
     ],
     "language": "python",
     "metadata": {},
     "outputs": [],
     "prompt_number": 13
    },
    {
     "cell_type": "code",
     "collapsed": false,
     "input": [
      "fcounts = []\n",
      "try:\n",
      "    for line in texts:\n",
      "        fcounts.append(line.count('fear', re.IGNORECASE))\n",
      "    \n",
      "except ValueError as detail:  \n",
      "    print 'fail?', detail\n",
      "    \n",
      "print len(fcounts)\n",
      "\n",
      "threatcounts = []\n",
      "try:\n",
      "    for line in texts:\n",
      "        threatcounts.append(line.count('threat', re.IGNORECASE))\n",
      "    \n",
      "except ValueError as detail:  \n",
      "    print 'fail?', detail\n",
      "    \n",
      "print len(threatcounts)\n",
      "\n",
      "\n",
      "safecounts = []\n",
      "try:\n",
      "    for line in texts:\n",
      "        safecounts.append(line.count('safe', re.IGNORECASE))\n",
      "    \n",
      "except ValueError as detail:  \n",
      "    print 'fail?', detail\n",
      "    \n",
      "print len(safecounts)\n",
      "\n",
      "\n",
      "becounts = []\n",
      "try:\n",
      "    for line in texts:\n",
      "        becounts.append(line.count('be', re.IGNORECASE))\n",
      "    \n",
      "except ValueError as detail:  \n",
      "    print 'fail?', detail\n",
      "    \n",
      "print len(becounts)\n",
      "\n",
      "\n",
      "praycounts = []\n",
      "try:\n",
      "    for line in texts:\n",
      "        praycounts.append(line.count('pray', re.IGNORECASE))\n",
      "    \n",
      "except ValueError as detail:  \n",
      "    print 'fail?', detail\n",
      "    \n",
      "print sum(praycounts)\n",
      "\n",
      "\n",
      "prayLAcounts = []\n",
      "try:\n",
      "    for line in texts:\n",
      "        prayLAcounts.append(line.count('pray for LA', re.IGNORECASE))\n",
      "    \n",
      "except ValueError as detail:  \n",
      "    print 'fail?', detail\n",
      "    \n",
      "print sum(prayLAcounts)"
     ],
     "language": "python",
     "metadata": {},
     "outputs": [
      {
       "output_type": "stream",
       "stream": "stdout",
       "text": [
        "4182\n",
        "4182\n",
        "4182\n",
        "4182\n",
        "165\n",
        "64\n"
       ]
      }
     ],
     "prompt_number": 16
    },
    {
     "cell_type": "code",
     "collapsed": false,
     "input": [
      "df4 = pd.DataFrame({ 'Fear Counts':fcounts, 'Threat Count':threatcounts, 'Safe':safecounts, \"Be Counts\":becounts , \"Pray Counts\":praycounts , \"Pray For LA Counts\":prayLAcounts}, index=times) "
     ],
     "language": "python",
     "metadata": {},
     "outputs": [],
     "prompt_number": 17
    },
    {
     "cell_type": "code",
     "collapsed": false,
     "input": [
      "bullshitcounts = []\n",
      "try:\n",
      "    for line in texts:\n",
      "        bullshitcounts.append(line.count('bullshit', re.IGNORECASE))\n",
      "    \n",
      "except ValueError as detail:  \n",
      "    print 'fail?', detail\n",
      "    \n",
      "print len(prayLAcounts)"
     ],
     "language": "python",
     "metadata": {},
     "outputs": []
    }
   ],
   "metadata": {}
  }
 ]
}