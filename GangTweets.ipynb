{
 "metadata": {
  "name": "",
  "signature": "sha256:205ed5f2d0d4908e3366fd97604daf3c1a7df1938f2bffd4dc7b487b09847a7d"
 },
 "nbformat": 3,
 "nbformat_minor": 0,
 "worksheets": [
  {
   "cells": [
    {
     "cell_type": "code",
     "collapsed": false,
     "input": [
      "import json\n",
      "import pandas as pd\n",
      "import matplotlib.pyplot as plt"
     ],
     "language": "python",
     "metadata": {},
     "outputs": [],
     "prompt_number": 2
    },
    {
     "cell_type": "code",
     "collapsed": false,
     "input": [
      "tweets = []\n",
      "try:\n",
      "    for line in open('tweets.txt', 'r'):\n",
      "        if line.strip():\n",
      "            tweets.append(json.loads(line))\n",
      "    \n",
      "except ValueError as detail:  # includes simplejson.decoder.JSONDecodeError\n",
      "    print 'Decoding JSON has failed', detail"
     ],
     "language": "python",
     "metadata": {},
     "outputs": [],
     "prompt_number": 25
    },
    {
     "cell_type": "code",
     "collapsed": false,
     "input": [
      "print len(tweets)"
     ],
     "language": "python",
     "metadata": {},
     "outputs": [
      {
       "output_type": "stream",
       "stream": "stdout",
       "text": [
        "4182\n"
       ]
      }
     ],
     "prompt_number": 26
    },
    {
     "cell_type": "code",
     "collapsed": false,
     "input": [
      "tweet = tweets[0]\n",
      "print tweet.keys()"
     ],
     "language": "python",
     "metadata": {},
     "outputs": [
      {
       "output_type": "stream",
       "stream": "stdout",
       "text": [
        "[u'firstpost_date', u'author', u'url', u'tweet', u'title', u'original_author', u'citation_date', u'metrics', u'highlight', u'type', u'citation_url']\n"
       ]
      }
     ],
     "prompt_number": 27
    },
    {
     "cell_type": "code",
     "collapsed": false,
     "input": [
      "print tweet['tweet'].keys()\n"
     ],
     "language": "python",
     "metadata": {},
     "outputs": [
      {
       "output_type": "stream",
       "stream": "stdout",
       "text": [
        "[u'contributors', u'truncated', u'text', u'in_reply_to_status_id', u'id', u'favorite_count', u'source', u'retweeted', u'coordinates', u'timestamp_ms', u'entities', u'in_reply_to_screen_name', u'in_reply_to_user_id', u'retweet_count', u'id_str', u'favorited', u'user', u'geo', u'in_reply_to_user_id_str', u'possibly_sensitive', u'lang', u'created_at', u'filter_level', u'in_reply_to_status_id_str', u'place']\n"
       ]
      }
     ],
     "prompt_number": 112
    },
    {
     "cell_type": "code",
     "collapsed": false,
     "input": [
      "print tweet['tweet']['text']"
     ],
     "language": "python",
     "metadata": {},
     "outputs": [
      {
       "output_type": "stream",
       "stream": "stdout",
       "text": [
        "#Jetlounge. #100Days100Nights #NOLA. #CWMB3 https://t.co/0B8c0h1PwS\n"
       ]
      }
     ],
     "prompt_number": 29
    },
    {
     "cell_type": "code",
     "collapsed": false,
     "input": [
      "print tweet['tweet']['retweeted']"
     ],
     "language": "python",
     "metadata": {},
     "outputs": [
      {
       "output_type": "stream",
       "stream": "stdout",
       "text": [
        "False\n"
       ]
      }
     ],
     "prompt_number": 30
    },
    {
     "cell_type": "code",
     "collapsed": false,
     "input": [
      "texts = [tweet['tweet']['text'] for tweet in tweets]"
     ],
     "language": "python",
     "metadata": {},
     "outputs": [],
     "prompt_number": 31
    },
    {
     "cell_type": "code",
     "collapsed": false,
     "input": [
      "no_rt_texts = [tweet['tweet']['text'] for tweet in tweets if tweet['tweet']['text'] not in no_rt_texts]"
     ],
     "language": "python",
     "metadata": {},
     "outputs": [],
     "prompt_number": 64
    },
    {
     "cell_type": "code",
     "collapsed": false,
     "input": [
      "import time\n",
      "times = []\n",
      "for tweet in tweets:\n",
      "    #times.append(tweet['tweet']['text'])\n",
      "    times.append(time.strftime('%Y-%m-%d', time.localtime(tweet['firstpost_date'])))\n",
      "    \n"
     ],
     "language": "python",
     "metadata": {},
     "outputs": [],
     "prompt_number": 203
    },
    {
     "cell_type": "code",
     "collapsed": false,
     "input": [
      "places = []\n",
      "for tweet in tweets:\n",
      "    if tweet['tweet']['place']:\n",
      "        places.append(tweet['tweet']['place']['full_name'])\n",
      "        "
     ],
     "language": "python",
     "metadata": {},
     "outputs": [],
     "prompt_number": 49
    },
    {
     "cell_type": "code",
     "collapsed": false,
     "input": [
      "print len(places)"
     ],
     "language": "python",
     "metadata": {},
     "outputs": [
      {
       "output_type": "stream",
       "stream": "stdout",
       "text": [
        "192\n"
       ]
      }
     ],
     "prompt_number": 84
    },
    {
     "cell_type": "code",
     "collapsed": false,
     "input": [
      "print no_rt_texts"
     ],
     "language": "python",
     "metadata": {},
     "outputs": [
      {
       "output_type": "stream",
       "stream": "stdout",
       "text": [
        "[u'A total of 6 people got killed yesterday #100days100nights #LongLiveKP', u'#100Days100Nights they killed the wrong mothafucka \\U0001f634\\U0001f64f', u\"This doesn't even make sense, the R100's made the #100Days100Nights sht, why would they catch bodies in the 100's? https://t.co/uk78jQlE2u\", u'Everyone be careful in Los Angeles #100days100nights', u'#100days100nights in LA is crazy. I hope everyone stays safe.', u'#100days100nights #Alert \\U0001f440\\U0001f633 http://t.co/SWg1zjCv5m', u'Hope all my LA fam stay safe...rollin 100s gotta bet goin...they tryna catch 100 bodies in a 100 days...neutrals &amp; all.. #100days100nights', u'Heartbroken about this #100days100nights issue \\U0001f622 praying for my city.', u\"Everybody please stay safe. I hope no one else gets shot #TRBinLA #100days100nights I don't want anyone getting hurt https://t.co/Htw69EYvAK\", u\"They killing peeps. I hear it's all up and down imperial too, which I live off of! #PrayForLa #100days100nights http://t.co/COVKfgOuCh\", u'Just got warned not to walk around near the weed spot because of #100days100nights... And 2 more dudes just died http://t.co/SgQiT3b1ZY', u\"There's a gang war goin on in LA right now #100days100nights &amp; from what I read, the goal is to kill 100 people (kids included) in 100 days\", u'this #100days100nights shit is wild.', u'LA, just be cool #100days100nights', u'#PrayForLA the Summer heating UP literally,niggas/innocents getting put on t-shirts! #100Days100Nights #SMH http://t.co/dMBxh3GQIf', u'That whole #100days100nights is so upsetting and disappointing', u'#100days100nights stay safe my south central people', u'This whole #100days100nights has me so terrified man', u\"Be safe LA it's real life ugly in the streets right now #100days100nights \\U0001f64f\", u'\\U0001f631\\U0001f631\\U0001f631 #100days100nights  https://t.co/fGcSgVB6dY', u'#100days100nights has me terrified', u'i live right in the middle and metro it back home from work at around 10....fuck this #100days100nights', u'pray for LA \\U0001f64f\\U0001f3fd god bless all of you out there #100days100nights', u'#100days100nights pick me!!!!', u'Wanting justice for all but yet killing one another. Fucking hypocrites if this #100days100nights is true.', u'Lord have mercy on our city . \\u261d #100days100nights http://t.co/6wyGLMTIGP', u'Cuhzho said if you in the field you will get killed @BobbyReefha #100days100nights', u'#100days100nights READ THIS SHIT!!!!!', u'Between all this shit going on with the police and the fact that this #100Days100Nights is able to still happen within all this smh...', u'Pray4LA Be Safe Out There \\U0001f64f\\U0001f3fd#100days100nights', u'My coworker lives in the area of the #100days100nights and she told me that they shot and possibly killed 3 kids all under the age of 15', u\"So sad we live and a day and age where kids can't even go out and play in the middle of the summer because of some BS. #100days100nights\", u'I just gotta block people who are trying to convince me that the #100days100nights is a conspiracy and only gang members are affected.', u'#100days100nights is surreal.', u\"Where's #BlackLivesMatter in all of this ????  #100days100nights .. We can do two things at the same time right ???\", u'#100Days100Nights makes the front page of the @latimes today...interesting. #SouthLA #LAPD http://t.co/U092YMI4cc', u'theres always a bit of truth to moral panics. the prob is when initial small fears are used to justify all subsequent fear #100days100nights', u'Anyways #100days100nights still scares the shit out of me', u'Everybody stop and search #100days100nights hashtag. Why we always gotta do this dumb shit', u'What happens when gangs get off the streets &amp; onto the Internet? My story: http://t.co/ywft0jGrdQ #100days100nights http://t.co/5r3JZXkVcT', u'#100days100nights: Gang threats of violence on social media draw fear http://t.co/tdgolQu43T', u'This is still VERY relevant today #100days100nights http://t.co/mVp8kz8F6v', u'@KNX1070 #100days100nights Since the year 2000 in #LA county alone there has been 4,788 blacks killed to date. #BlackGenocide', u'They expanded the areas everyone now to Crenshaw and Hyde park. And Vernon be safe. Everybody. \\U0001f64f\\U0001f3fe#100days100nights', u\"You guys are confusing this #100days100nights thing. It's not the gangs doing. The cops been doing this shit for years.\", u'LA Gangs vow to kill 100 people in 100 days.  But Diversity is Good... Remember that.\\n\\n#100days100nights  https://t.co/65k5JcgIll', u'Exactly. #100days100nights is #PureCrackpottery https://t.co/x6NR9qAKPZ', u\"Praying for the family's that live in LA right now #100days100nights\", u\"So let me get this straight. We'll talk about Ebola or Bird Flu for hours, dats and weeks, but no mention of #100days100nights ANYWHERE!\", u\"I'm telling yallllllll read the #100days100nights hashtag and yall will really laugh\\U0001f602 these people swear they know what they talking about\\U0001f602\\U0001f602\", u'Why dont we make this bs of #100days100nights about helping those in need! A hundred days a hundred nights give back. Do your part! #', u'Plot twist: Cops are also doing the #100days100nights shit', u'RT @ABC7: Rumored threats of gang violence in South LA spread with #100Days100Nights http://t.co/jgfCCYACDe http://t.co/vqMuDYp5mF', u'@tariqnasheed @MyVoiceY my homie my friend Kejon so innocent man R.I.P #100days100nights ! http://t.co/AzlDqAWrnT', u'HOW ABOUT 100 DAYS OF POSITIVITY&amp; PROGRESSION #100days100nights #PrayForLA', u'#100days100nights is no joke .', u\"I don't get disgusted easily, but #100days100nights makes my heart drop. Even if it's fake, it's still an example of the worst of humanity\", u'I was a former gang member in LA, but i found #jesus so please lay down your guns and pick up a bible.  #100days100nights', u'#100days100nights: LA gangs \\u2018in contest to murder 100 people in 100 days\\u2019 http://t.co/0upM3BqdqT', u'.@FearDept, @SecFear -- good job on #100days100nights! http://t.co/B8V8Q1UKs8', u\"Enough about meek tho #100days100nights  is going on in LA. Let's pray about that  they already killed a kid that was only 4  smh.\", u'This meek and drake beef is trending but there are more important matters at hand...be careful in LA #100days100nights', u'#100DAYS100NIGHTS is fake I promise you niggas is not entertaining that', u'Be safe LA. See anything shady, report it! #100Days100Nights http://t.co/m5eCoiElqz', u'#100days100nights: Gang threats of violence on social media draw fear - LA Times http://t.co/Egn1pBk4V4', u\"Every1 in LA be safe &amp; don't pay attention to that one map they have of  Rollin 100s. It's war all over South Central rn #100days100nights\", u'This The Hottest Shit In LA right now!!!\\U0001f525\\n#100days100nights @SpiffieLuciano &amp; @lilcadipge \\n\\nhttps://t.co/FtnRouxFfp', u\"LA's #100days100nights Gang Murder Bet Is Probably BS - http://t.co/EpTq6rRtHN\", u'Amenazan con #CienD\\xedasCienNoches de terror en Los \\xc1ngeles. #100days100nights http://t.co/FCRr2YaFl9 http://t.co/biVh4Viqby', u'#100Days100Nights: Los Angeles Gangs Using Social Media To Threaten Violence http://t.co/pgnalKXk3J', u'To Be Loved You Must Love \\nAll That You See. #100Days100Nights \\n#HollowKnots #1nsane5tate #PUUNC http://t.co/C3trjb0iJO', u'#100days100nights: LA Gangs are \"In a Contest to Murder 100 People in 100 Days\" http://t.co/WgnGYnICkc', u'#100days100nights: LA Gangs are \\u201cIn a Contest to Murder 100 People in 100 Days\\u201d http://t.co/4MqdnDbRMv', u'Pray for LA smh... Stay off the streets! #100Days100Nights', u\"That's craaazzy if this #100days100nights is real\", u'Thank God idk anyone that has fell victim to this war in my city ! #prayforla #100days100nights', u\"I really hope this #100days100nights thing isn't real.  Fake or real, please be safe in LA especially all my folks in south central \\U0001f64f\", u'Another body #100days100nights \\U0001f602\\U0001f602\\U0001f602\\U0001f602 Drake calling God in church like dear lord let me get another chance \\U0001f602\\U0001f602\\U0001f602\\U0001f602 http://t.co/79f6xzrndM', u'Is #100Days100Nights Just a Threatening Hashtag or a Full-Blown LA Gang War? http://t.co/qgRVJ8f5iQ http://t.co/7Ya7aeS6ns', u'Lots of OGs, activists, gang interventionists out for press conf in #SouthLA on gang violence. #100days100nights http://t.co/O3Ka2Q1g6e', u\"I'll take  #DrakeVsMeek over #100days100nights any day #BlackLivesMatter \\U0001f64f\\U0001f3fe\"]\n"
       ]
      }
     ],
     "prompt_number": 65
    },
    {
     "cell_type": "code",
     "collapsed": false,
     "input": [
      "from sklearn.feature_extraction.text import TfidfVectorizer \n",
      "\n",
      "vect = TfidfVectorizer(stop_words='english', analyzer='word', ngram_range=(1,3), min_df=2)\n",
      "\n",
      "vectorized_corpus = vect.fit_transform(no_rt_texts)"
     ],
     "language": "python",
     "metadata": {},
     "outputs": [],
     "prompt_number": 67
    },
    {
     "cell_type": "code",
     "collapsed": false,
     "input": [
      "from sklearn.decomposition import TruncatedSVD \n",
      "\n",
      "N_COMPONENTS = 50  # feel free to change this if you so desire; typical values are between 50 and 400\n",
      "\n",
      "tsvd = TruncatedSVD(n_components=N_COMPONENTS)\n",
      "\n",
      "embedded_corpus = tsvd.fit_transform(vectorized_corpus)"
     ],
     "language": "python",
     "metadata": {},
     "outputs": [],
     "prompt_number": 68
    },
    {
     "cell_type": "code",
     "collapsed": false,
     "input": [
      "from sklearn.cluster import MiniBatchKMeans \n",
      "\n",
      "N_CLUSTERS = 5  # feel free to experiment with this value, too\n",
      "\n",
      "clstr = MiniBatchKMeans(n_clusters=N_CLUSTERS)\n",
      "clusters = clstr.fit_predict(embedded_corpus)"
     ],
     "language": "python",
     "metadata": {},
     "outputs": [],
     "prompt_number": 89
    },
    {
     "cell_type": "code",
     "collapsed": false,
     "input": [
      "print clusters"
     ],
     "language": "python",
     "metadata": {},
     "outputs": [
      {
       "output_type": "stream",
       "stream": "stdout",
       "text": [
        "[4 4 1 1 0 1 2 1 0 1 4 2 3 4 1 1 0 1 0 1 1 1 4 1 1 0 4 3 3 0 4 1 4 1 1 1 1\n",
        " 3 3 0 1 0 4 0 3 2 1 1 1 3 1 3 0 0 2 1 1 4 2 0 4 1 1 0 1 0 1 1 0 1 1 2 2 4\n",
        " 1 1 0 1 4 1 1]\n"
       ]
      }
     ],
     "prompt_number": 90
    },
    {
     "cell_type": "code",
     "collapsed": false,
     "input": [
      "from collections import defaultdict\n",
      "\n",
      "clusters_to_content = defaultdict(list)\n",
      "\n",
      "for subject, page in zip(no_rt_texts, clusters): \n",
      "    clusters_to_content[page].append(subject)\n",
      "\n",
      "for idx in clusters_to_content: \n",
      "    print(idx)\n",
      "    print(clusters_to_content[idx])\n",
      "    print('\\n')"
     ],
     "language": "python",
     "metadata": {},
     "outputs": [
      {
       "output_type": "stream",
       "stream": "stdout",
       "text": [
        "0\n",
        "[u'#100days100nights in LA is crazy. I hope everyone stays safe.', u\"Everybody please stay safe. I hope no one else gets shot #TRBinLA #100days100nights I don't want anyone getting hurt https://t.co/Htw69EYvAK\", u'#100days100nights stay safe my south central people', u\"Be safe LA it's real life ugly in the streets right now #100days100nights \\U0001f64f\", u'Lord have mercy on our city . \\u261d #100days100nights http://t.co/6wyGLMTIGP', u'Pray4LA Be Safe Out There \\U0001f64f\\U0001f3fd#100days100nights', u'What happens when gangs get off the streets &amp; onto the Internet? My story: http://t.co/ywft0jGrdQ #100days100nights http://t.co/5r3JZXkVcT', u'This is still VERY relevant today #100days100nights http://t.co/mVp8kz8F6v', u'They expanded the areas everyone now to Crenshaw and Hyde park. And Vernon be safe. Everybody. \\U0001f64f\\U0001f3fe#100days100nights', u'RT @ABC7: Rumored threats of gang violence in South LA spread with #100Days100Nights http://t.co/jgfCCYACDe http://t.co/vqMuDYp5mF', u'@tariqnasheed @MyVoiceY my homie my friend Kejon so innocent man R.I.P #100days100nights ! http://t.co/AzlDqAWrnT', u'.@FearDept, @SecFear -- good job on #100days100nights! http://t.co/B8V8Q1UKs8', u'Be safe LA. See anything shady, report it! #100Days100Nights http://t.co/m5eCoiElqz', u\"Every1 in LA be safe &amp; don't pay attention to that one map they have of  Rollin 100s. It's war all over South Central rn #100days100nights\", u'Amenazan con #CienD\\xedasCienNoches de terror en Los \\xc1ngeles. #100days100nights http://t.co/FCRr2YaFl9 http://t.co/biVh4Viqby', u\"I really hope this #100days100nights thing isn't real.  Fake or real, please be safe in LA especially all my folks in south central \\U0001f64f\"]\n",
        "\n",
        "\n",
        "1\n",
        "[u\"This doesn't even make sense, the R100's made the #100Days100Nights sht, why would they catch bodies in the 100's? https://t.co/uk78jQlE2u\", u'Everyone be careful in Los Angeles #100days100nights', u'#100days100nights #Alert \\U0001f440\\U0001f633 http://t.co/SWg1zjCv5m', u'Heartbroken about this #100days100nights issue \\U0001f622 praying for my city.', u\"They killing peeps. I hear it's all up and down imperial too, which I live off of! #PrayForLa #100days100nights http://t.co/COVKfgOuCh\", u'#PrayForLA the Summer heating UP literally,niggas/innocents getting put on t-shirts! #100Days100Nights #SMH http://t.co/dMBxh3GQIf', u'That whole #100days100nights is so upsetting and disappointing', u'This whole #100days100nights has me so terrified man', u'\\U0001f631\\U0001f631\\U0001f631 #100days100nights  https://t.co/fGcSgVB6dY', u'#100days100nights has me terrified', u'i live right in the middle and metro it back home from work at around 10....fuck this #100days100nights', u'#100days100nights pick me!!!!', u'Wanting justice for all but yet killing one another. Fucking hypocrites if this #100days100nights is true.', u\"So sad we live and a day and age where kids can't even go out and play in the middle of the summer because of some BS. #100days100nights\", u'#100days100nights is surreal.', u\"Where's #BlackLivesMatter in all of this ????  #100days100nights .. We can do two things at the same time right ???\", u'#100Days100Nights makes the front page of the @latimes today...interesting. #SouthLA #LAPD http://t.co/U092YMI4cc', u'theres always a bit of truth to moral panics. the prob is when initial small fears are used to justify all subsequent fear #100days100nights', u'#100days100nights: Gang threats of violence on social media draw fear http://t.co/tdgolQu43T', u'Exactly. #100days100nights is #PureCrackpottery https://t.co/x6NR9qAKPZ', u\"Praying for the family's that live in LA right now #100days100nights\", u\"So let me get this straight. We'll talk about Ebola or Bird Flu for hours, dats and weeks, but no mention of #100days100nights ANYWHERE!\", u'Why dont we make this bs of #100days100nights about helping those in need! A hundred days a hundred nights give back. Do your part! #', u'#100days100nights is no joke .', u\"I don't get disgusted easily, but #100days100nights makes my heart drop. Even if it's fake, it's still an example of the worst of humanity\", u'This meek and drake beef is trending but there are more important matters at hand...be careful in LA #100days100nights', u'#100DAYS100NIGHTS is fake I promise you niggas is not entertaining that', u'#100days100nights: Gang threats of violence on social media draw fear - LA Times http://t.co/Egn1pBk4V4', u'This The Hottest Shit In LA right now!!!\\U0001f525\\n#100days100nights @SpiffieLuciano &amp; @lilcadipge \\n\\nhttps://t.co/FtnRouxFfp', u\"LA's #100days100nights Gang Murder Bet Is Probably BS - http://t.co/EpTq6rRtHN\", u'#100Days100Nights: Los Angeles Gangs Using Social Media To Threaten Violence http://t.co/pgnalKXk3J', u'To Be Loved You Must Love \\nAll That You See. #100Days100Nights \\n#HollowKnots #1nsane5tate #PUUNC http://t.co/C3trjb0iJO', u\"That's craaazzy if this #100days100nights is real\", u'Thank God idk anyone that has fell victim to this war in my city ! #prayforla #100days100nights', u'Another body #100days100nights \\U0001f602\\U0001f602\\U0001f602\\U0001f602 Drake calling God in church like dear lord let me get another chance \\U0001f602\\U0001f602\\U0001f602\\U0001f602 http://t.co/79f6xzrndM', u'Lots of OGs, activists, gang interventionists out for press conf in #SouthLA on gang violence. #100days100nights http://t.co/O3Ka2Q1g6e', u\"I'll take  #DrakeVsMeek over #100days100nights any day #BlackLivesMatter \\U0001f64f\\U0001f3fe\"]"
       ]
      },
      {
       "output_type": "stream",
       "stream": "stdout",
       "text": [
        "\n",
        "\n",
        "\n",
        "2\n",
        "[u'Hope all my LA fam stay safe...rollin 100s gotta bet goin...they tryna catch 100 bodies in a 100 days...neutrals &amp; all.. #100days100nights', u\"There's a gang war goin on in LA right now #100days100nights &amp; from what I read, the goal is to kill 100 people (kids included) in 100 days\", u'LA Gangs vow to kill 100 people in 100 days.  But Diversity is Good... Remember that.\\n\\n#100days100nights  https://t.co/65k5JcgIll', u'HOW ABOUT 100 DAYS OF POSITIVITY&amp; PROGRESSION #100days100nights #PrayForLA', u'#100days100nights: LA gangs \\u2018in contest to murder 100 people in 100 days\\u2019 http://t.co/0upM3BqdqT', u'#100days100nights: LA Gangs are \"In a Contest to Murder 100 People in 100 Days\" http://t.co/WgnGYnICkc', u'#100days100nights: LA Gangs are \\u201cIn a Contest to Murder 100 People in 100 Days\\u201d http://t.co/4MqdnDbRMv']\n",
        "\n",
        "\n",
        "3\n",
        "[u'this #100days100nights shit is wild.', u'#100days100nights READ THIS SHIT!!!!!', u'Between all this shit going on with the police and the fact that this #100Days100Nights is able to still happen within all this smh...', u'Anyways #100days100nights still scares the shit out of me', u'Everybody stop and search #100days100nights hashtag. Why we always gotta do this dumb shit', u\"You guys are confusing this #100days100nights thing. It's not the gangs doing. The cops been doing this shit for years.\", u\"I'm telling yallllllll read the #100days100nights hashtag and yall will really laugh\\U0001f602 these people swear they know what they talking about\\U0001f602\\U0001f602\", u'Plot twist: Cops are also doing the #100days100nights shit']\n",
        "\n",
        "\n",
        "4\n",
        "[u'A total of 6 people got killed yesterday #100days100nights #LongLiveKP', u'#100Days100Nights they killed the wrong mothafucka \\U0001f634\\U0001f64f', u'Just got warned not to walk around near the weed spot because of #100days100nights... And 2 more dudes just died http://t.co/SgQiT3b1ZY', u'LA, just be cool #100days100nights', u'pray for LA \\U0001f64f\\U0001f3fd god bless all of you out there #100days100nights', u'Cuhzho said if you in the field you will get killed @BobbyReefha #100days100nights', u'My coworker lives in the area of the #100days100nights and she told me that they shot and possibly killed 3 kids all under the age of 15', u'I just gotta block people who are trying to convince me that the #100days100nights is a conspiracy and only gang members are affected.', u'@KNX1070 #100days100nights Since the year 2000 in #LA county alone there has been 4,788 blacks killed to date. #BlackGenocide', u'I was a former gang member in LA, but i found #jesus so please lay down your guns and pick up a bible.  #100days100nights', u\"Enough about meek tho #100days100nights  is going on in LA. Let's pray about that  they already killed a kid that was only 4  smh.\", u'Pray for LA smh... Stay off the streets! #100Days100Nights', u'Is #100Days100Nights Just a Threatening Hashtag or a Full-Blown LA Gang War? http://t.co/qgRVJ8f5iQ http://t.co/7Ya7aeS6ns']\n",
        "\n",
        "\n"
       ]
      }
     ],
     "prompt_number": 91
    },
    {
     "cell_type": "code",
     "collapsed": false,
     "input": [
      "from collections import Counter\n",
      "Counter(texts).most_common(100)"
     ],
     "language": "python",
     "metadata": {},
     "outputs": [
      {
       "metadata": {},
       "output_type": "pyout",
       "prompt_number": 101,
       "text": [
        "[(u'#100days100nights', 72),\n",
        " (u'#100days100nights #PrayForLA', 9),\n",
        " (u\"LA's #100days100nights Gang Murder Bet Is Probably Bullshit\", 6),\n",
        " (u'#PrayForLA #100days100nights', 6),\n",
        " (u'#100Days100Nights', 4),\n",
        " (u'Pray for LA #100days100nights', 3),\n",
        " (u'#100days100nights: Gang threats of violence on social media draw fear (LA Times) http://t.co/ZvJOEByZNW',\n",
        "  2),\n",
        " (u'#100days100nights: Gang threats of violence on social media draw fear http://t.co/dzOYTtHXFu',\n",
        "  2),\n",
        " (u'#100days100nights: Gang threats of violence on social media draw fear http://t.co/V2sr8KmCKO',\n",
        "  2),\n",
        " (u'#100days100nights: el escalofriante hashtag que estremece a Estados Unidos. http://t.co/ePFA2dQ0L8 v\\xeda @La_Sintesis',\n",
        "  2),\n",
        " (u'#100days100nights: Gang threats of violence on social media draw fear http://t.co/mZ5yRpAmjt',\n",
        "  2),\n",
        " (u'Be safe, Los Angeles. #100days100nights', 2),\n",
        " (u'#100days100nights \\U0001f64f', 2),\n",
        " (u'#100days100nights \\U0001f610', 2),\n",
        " (u'#100days100nights: Gang threats of violence on social media draw fear (LA Times) http://t.co/FuWTxGjsCH',\n",
        "  2),\n",
        " (u'#100days100nights \\U0001f633', 2),\n",
        " (u'PRAY FOR LA #100days100nights', 2),\n",
        " (u\"What if the Purge was a message to us about the #100days100nights and the media wants us to think it's gangsters/thugs doing it. #Trusstttt\",\n",
        "  2),\n",
        " (u'#100days100nights what the hell', 2),\n",
        " (u'#100DAYS100NIGHTS', 2),\n",
        " (u'#prayforLA #100days100nights', 2),\n",
        " (u'This #100Days100Nights like the Purge', 2),\n",
        " (u'stay safe #100days100nights', 2),\n",
        " (u'I think #100days100nights crazy', 2),\n",
        " (u'#100days100nights \\U0001f440', 2),\n",
        " (u'pray. stay aware. stay safe LA. #100days100nights', 2),\n",
        " (u'#100days100nights: Gang threats of violence on #social #media draw fear ... social+media http://t.co/SszooLEFOl',\n",
        "  2),\n",
        " (u'Pray for #100days100nights', 2),\n",
        " (u'#100days100nights: Gang threats of violence on social media draw fear http://t.co/U4Dey9GzI0 #news',\n",
        "  2),\n",
        " (u'Pray for LA \\U0001f64f\\U0001f3fe #100days100nights', 2),\n",
        " (u\"LA's #100days100nights Gang Murder Bet Is Probably Bullshit http://t.co/Z2eRWT39tH via @GizmodoIN\",\n",
        "  2),\n",
        " (u\"LA's #100days100nights Gang Murder Bet Is Probably Bullshit - http://t.co/KEkc1qhWHS\",\n",
        "  2),\n",
        " (u'I suggest yall start rockin blue for a few months #100days100nights', 1),\n",
        " (u'#100days100nights has to be one of  the craziest thing i ever heard smh. #PrayForLA',\n",
        "  1),\n",
        " (u'| #100Days100Nights |  P S A  -@itzdubb \\u270a #AllLivesMatter \\n\\n#Repost @itzdubb\\n\\u30fb\\u30fb\\u30fb\\nPSA 8. https://t.co/I9OIDKkaZU',\n",
        "  1),\n",
        " (u\"If u ain't from LA don't speak on this  #100days100nights\", 1),\n",
        " (u'#100days100nights: Gang threats of violence on social media draw fear \\u2013 LA \\u2026 \\u2013 Los Angeles Times http://t.co/z7yY7CeqEm',\n",
        "  1),\n",
        " (u'#100days100nights: Gang threats of violence on social media draw fear \\u2013 Los Angeles Times http://t.co/ZIyOUm6xQ3',\n",
        "  1),\n",
        " (u\"So why LA really going in with this #100days100nights  thing. Black people already can't breathe, why kill each other by each other?\",\n",
        "  1),\n",
        " (u'They tripping in L.A with that #100days100nights They on some real life purge shit #PrayForLA',\n",
        "  1),\n",
        " (u'i pray God watch over my mama n my cousins livin in the heart of all that static\\U0001f613\\U0001f64f  #100days100nights',\n",
        "  1),\n",
        " (u'@BornSinner what about #100days100nights', 1),\n",
        " (u'praying for everyone in LA! GOD is with you\\U0001f64f\\U0001f3fe #100days100nights stop the violence\\U0001f339',\n",
        "  1),\n",
        " (u\"LA's #100days100nights Gang Murder Bet Is Probably Bullshit - IT Support for Business in... http://t.co/2DgnPXgqzb\",\n",
        "  1),\n",
        " (u\"South central ain't safe\\nWouldn't be surprised if the police are behind those fake accounts makin it worse.\\n#100days100nights\",\n",
        "  1),\n",
        " (u'#100days100nights: Gang threats of violence on social media draw fear \\u2013 Los Angeles Times http://t.co/PknhqC8mvl',\n",
        "  1),\n",
        " (u'What is wrong with murica, fuck it lets shoot everyone pew pew pew\\U0001f52b #100days100nights',\n",
        "  1),\n",
        " (u'Is #100Days100Nights Just a Threatening Hashtag or a Full-Blown LA Gang War? | VICE | United States http://t.co/2IvD7y8EqX',\n",
        "  1),\n",
        " (u'#100days100nights PRAY 4 LA ALL LIVES MATTER. STAY SAFE OUT THERE IN LOS ANGELES. YO MY PLAYA PATNAS OUT IN LA. STAY SAFE.',\n",
        "  1),\n",
        " (u'Yo white people in Montana be hitting up the local police station asking if they should take any precautions for the #100days100nights',\n",
        "  1),\n",
        " (u\"#GeekDailyNews LA's #100days100nights Gang Murder Bet Is Probably Bullshit http://t.co/4S0NcdiATo\",\n",
        "  1),\n",
        " (u'Praying for my Rollin hunnid brothers in LA.. That #100days100nights is real\\U0001f47f\\U0001f64f\\U0001f3fd',\n",
        "  1),\n",
        " (u'This shit brazy #100days100nights', 1),\n",
        " (u\"LA's #100days100nights Gang Murder Bet Is Probably Bullshit http://t.co/SoaX6xWWxP\",\n",
        "  1),\n",
        " (u'This #100days100nights makes me sick.', 1),\n",
        " (u'pray for LA#100days100nights\\u2764\\ufe0f http://t.co/AFYljQmgIc', 1),\n",
        " (u'#100days100nights: L.A. street gangs take vicious feuds to social media http://t.co/0QAhYZ8o00 http://t.co/PpctGyH5j0',\n",
        "  1),\n",
        " (u'This #100days100nights shit is making me worried to be in the city this week',\n",
        "  1),\n",
        " (u\"i didn't want to tell my mom about #100days100nights cause i didn't want her worrying about me but i got worried for her so i had to say it\",\n",
        "  1),\n",
        " (u'\\U0001f614 RT @NewsSource24: #100days100nights: LA gangs \\u2018in contest to murder 100 people in 100 days\\u2019 http://t.co/eyzzfVZRXU',\n",
        "  1),\n",
        " (u'This Shits Crazy SMH... #PrayForLA #100days100nights https://t.co/VyL3Rlu6B5',\n",
        "  1),\n",
        " (u'Virtually nothing on the news anywhere about #100days100nights.', 1),\n",
        " (u\"As the despicable @NRA needed another reason to peddle their snake oil... it's this hashtag #100days100nights\",\n",
        "  1),\n",
        " (u'#100days100nights: Gang threats of violence on social media draw fear \\u2013 Los Angeles Times http://t.co/UhepbM7zRB',\n",
        "  1),\n",
        " (u'#100days100nights  Smh Be Safe In La \\U0001f613 As the world just gets worse \\U0001f629',\n",
        "  1),\n",
        " (u'#100days100nights: Gang threats of violence on social media draw fear \\u2013 Los Angeles Times http://t.co/icChvDrjRP',\n",
        "  1),\n",
        " (u\"Wow so sad what's goin down in LA #100Days100Nights #PrayForLA this is the fcked up world we live in\",\n",
        "  1),\n",
        " (u'#100days100nights: LA Gangs are \"In a Contest to Murder 100 People in 100 Days\" | John Hawkins\\'... http://t.co/z9vCdqlx0p',\n",
        "  1),\n",
        " (u'So 1 gang member gets killed so you retaliate by killing 100 innocent people? Good common sense that is... \\U0001f636 #100days100nights',\n",
        "  1),\n",
        " (u'#100days100nights #PrayForLA \\U0001f64f', 1),\n",
        " (u'Hope all my LA fam stay safe...rollin 100s gotta bet goin...they tryna catch 100 bodies in a 100 days...neutrals &amp; all.. #100days100nights',\n",
        "  1),\n",
        " (u'#100days100nights: Gang threats of violence on social media draw fear \\u2013 Los Angeles Times http://t.co/8YSuLEcRSG',\n",
        "  1),\n",
        " (u'#100Days100Nights  #Pray4La \\U000fe326\\U0001f610\\U000fec15\\U000fe340 #smmfh #BlackLivesMatter #AllLivesMatter http://t.co/roKyGjQqQt',\n",
        "  1),\n",
        " (u'#100days100nights for all the people that have been injured or killed. May you rest in peace or be well soon\\U0001f64f\\U0001f3fc\\U0001f62d',\n",
        "  1),\n",
        " (u'#100days100nights: Gang threats of violence on social media draw fear - LA Times: Back in the 1980s... http://t.co/eQYYexVWFo #SocialWeb',\n",
        "  1),\n",
        " (u'Wanna take a moment and #PrayForLA apparently 2 gangs started some sort of competition to see who kills 100 people first #100days100nights',\n",
        "  1),\n",
        " (u'#100Days100Nights LA gang warfare bet surges on social media - TomoNews https://t.co/G2nSHYPyz5 via @YouTube',\n",
        "  1),\n",
        " (u'Be safe, LA. I feel for the families. #100days100nights', 1),\n",
        " (u'#100days100nights thing is pretty savage', 1),\n",
        " (u'#100days100nights https://t.co/i6GwmcrBvD', 1),\n",
        " (u'#100days100nights http://t.co/fmjZwa4KXV', 1),\n",
        " (u'#100days100nights created by a bunch of punks', 1),\n",
        " (u'#100days100nights: Gang threats of violence on social media draw fear', 1),\n",
        " (u\"LA's #100days100nights gang murder bet is probably bullshit http://t.co/wqlUnnMQHX http://t.co/BkCnFKugkF Via Gizmodo #Tech\",\n",
        "  1),\n",
        " (u'#100days100nights: Gang threats of violence on social media draw fear - LA Times http://t.co/a1d5MFmjty #SocialMedia',\n",
        "  1),\n",
        " (u\"#100days100nights: 'Things have calmed down' in South L.A., LAPD says http://t.co/FIFkGkv794\",\n",
        "  1),\n",
        " (u'\"@poetripedia: \"Sometimes, i pretend you love me.\"\"\\n#NationalCheesecakeDay #100days100nights',\n",
        "  1),\n",
        " (u\"Since I changed my description to #100days100nights i've had 20 crips follow me... fucking mint!\",\n",
        "  1),\n",
        " (u'#100days100nights: Gang threats of violence on social media draw fear - LA ... - Los Angeles Times http://t.co/HMBh0jKRvk',\n",
        "  1),\n",
        " (u\"All you blogs don't post shit about #100days100nights you don't know shit about it... all y'all want is retweets and favorites #FOH\",\n",
        "  1),\n",
        " (u\"#100days100nights: 'Things have calmed down' in South L.A., LAPD says http://t.co/1VbGU5pXqW  Stay aware\",\n",
        "  1),\n",
        " (u'#100days100nights: Gang threats of violence on social media draw fear \\u2013 Los Angeles Times http://t.co/ThHAnY72YT',\n",
        "  1),\n",
        " (u'Yo this #100days100nights is no joke!!! Spread the word . #Pray4LA  #LosAngeles #SouthCentralLA #AguasRaza #\\U000fe35b\\U0001f3fb http://t.co/1SJBeohEoO',\n",
        "  1),\n",
        " (u\"LA's #100days100nights Gang Murder Bet Is Probably Bullshit http://t.co/FI0398BuJZ\",\n",
        "  1),\n",
        " (u'#breaking #LA #100days100nights fuels fear in South L.A. http://t.co/Jzx8SXTNCI',\n",
        "  1),\n",
        " (u'#100days100nights: Gang threats of violence on social media draw fear \\u2013 Los Angeles Times http://t.co/Rd7xKMhFoV',\n",
        "  1),\n",
        " (u'#100days100nights: Gang threats of violence on social media draw fear \\u2013 Los Angeles Times http://t.co/j3ijcVnSdY',\n",
        "  1),\n",
        " (u'Just in time for #100days100nights  https://t.co/hrx1ZFjlsG', 1),\n",
        " (u'#100days100nights: Gang threats of violence on social media draw fear (story by @nicolesantacruz @katemather @jpanzar)http://t.co/oRNL76APNl',\n",
        "  1),\n",
        " (u'Instead of killing your brothers and sisters why not unite and fight the injustice in this country #100days100nights #spreadlovenothate',\n",
        "  1)]"
       ]
      }
     ],
     "prompt_number": 101
    },
    {
     "cell_type": "code",
     "collapsed": false,
     "input": [
      "from collections import Counter\n",
      "Counter(places).most_common(10)"
     ],
     "language": "python",
     "metadata": {},
     "outputs": [
      {
       "metadata": {},
       "output_type": "pyout",
       "prompt_number": 86,
       "text": [
        "[(u'Los Angeles, CA', 53),\n",
        " (u'Georgia, USA', 5),\n",
        " (u'Inglewood, CA', 4),\n",
        " (u'West Athens, CA', 4),\n",
        " (u'San Diego, CA', 4),\n",
        " (u'Long Beach, CA', 4),\n",
        " (u'Westmont, CA', 4),\n",
        " (u'Rancho Cucamonga, CA', 3),\n",
        " (u'Manhattan, NY', 3),\n",
        " (u'New Orleans, LA', 3)]"
       ]
      }
     ],
     "prompt_number": 86
    },
    {
     "cell_type": "code",
     "collapsed": false,
     "input": [
      "from textblob import TextBlob\n",
      "strtexts = str(texts).lower()\n",
      "blob = TextBlob(strtexts)"
     ],
     "language": "python",
     "metadata": {},
     "outputs": [],
     "prompt_number": 76
    },
    {
     "cell_type": "code",
     "collapsed": false,
     "input": [
      "Counter(blob.words).most_common(100)"
     ],
     "language": "python",
     "metadata": {},
     "outputs": [
      {
       "metadata": {},
       "output_type": "pyout",
       "prompt_number": 100,
       "text": [
        "[('100days100nights', 4167),\n",
        " ('u', 2851),\n",
        " ('http', 2113),\n",
        " ('gang', 1307),\n",
        " ('of', 1217),\n",
        " ('on', 1151),\n",
        " ('la', 1123),\n",
        " ('in', 1040),\n",
        " ('media', 996),\n",
        " ('social', 975),\n",
        " ('violence', 952),\n",
        " ('is', 951),\n",
        " ('fear', 926),\n",
        " ('threats', 881),\n",
        " ('the', 868),\n",
        " ('to', 854),\n",
        " ('draw', 849),\n",
        " ('los', 733),\n",
        " ('angeles', 720),\n",
        " ('times', 655),\n",
        " ('u2013', 592),\n",
        " ('a', 529),\n",
        " ('this', 483),\n",
        " (\"'s\", 479),\n",
        " ('100', 459),\n",
        " ('i', 420),\n",
        " ('for', 376),\n",
        " ('people', 374),\n",
        " ('and', 358),\n",
        " ('murder', 349),\n",
        " ('gangs', 330),\n",
        " ('bet', 304),\n",
        " ('be', 300),\n",
        " ('you', 281),\n",
        " ('safe', 273),\n",
        " ('it', 269),\n",
        " (\"n't\", 269),\n",
        " ('https', 264),\n",
        " ('that', 251),\n",
        " ('are', 239),\n",
        " ('bullshit', 237),\n",
        " ('probably', 227),\n",
        " ('south', 217),\n",
        " ('my', 207),\n",
        " ('prayforla', 207),\n",
        " ('l.a', 204),\n",
        " ('shit', 203),\n",
        " ('real', 186),\n",
        " ('out', 183),\n",
        " ('all', 176),\n",
        " ('hashtag', 174),\n",
        " ('days', 170),\n",
        " ('have', 167),\n",
        " ('we', 156),\n",
        " ('do', 155),\n",
        " ('contest', 154),\n",
        " ('about', 153),\n",
        " ('kill', 150),\n",
        " ('just', 147),\n",
        " ('but', 145),\n",
        " ('stay', 140),\n",
        " ('killing', 134),\n",
        " ('up', 133),\n",
        " ('what', 132),\n",
        " ('not', 127),\n",
        " ('with', 122),\n",
        " ('amp', 122),\n",
        " ('need', 122),\n",
        " ('no', 122),\n",
        " ('they', 121),\n",
        " ('there', 118),\n",
        " ('thing', 115),\n",
        " ('if', 113),\n",
        " ('pray', 111),\n",
        " ('so', 101),\n",
        " ('me', 100),\n",
        " ('more', 97),\n",
        " ('central', 96),\n",
        " ('going', 95),\n",
        " (\"u'this\", 95),\n",
        " ('like', 95),\n",
        " ('or', 93),\n",
        " ('got', 92),\n",
        " ('really', 89),\n",
        " ('war', 87),\n",
        " ('n', 87),\n",
        " (\"'m\", 86),\n",
        " ('crazy', 82),\n",
        " ('now', 80),\n",
        " ('take', 77),\n",
        " ('blacklivesmatter', 77),\n",
        " ('from', 77),\n",
        " ('lapd', 76),\n",
        " ('right', 75),\n",
        " (\"u'i\", 74),\n",
        " ('news', 74),\n",
        " ('down', 73),\n",
        " ('please', 72),\n",
        " ('when', 71),\n",
        " ('who', 71)]"
       ]
      }
     ],
     "prompt_number": 100
    },
    {
     "cell_type": "code",
     "collapsed": false,
     "input": [
      "Counter(blob.noun_phrases).most_common(20)"
     ],
     "language": "python",
     "metadata": {},
     "outputs": [
      {
       "metadata": {},
       "output_type": "pyout",
       "prompt_number": 78,
       "text": [
        "[(u'# 100days100nights', 2171),\n",
        " (u'social media', 904),\n",
        " (u'gang threats', 864),\n",
        " (u'\\\\u2013 los angeles times http', 479),\n",
        " (u\"'s # 100days100nights gang murder\", 206),\n",
        " (u'... http', 127),\n",
        " (u'bullshit http', 124),\n",
        " (u'# 100days100nights http', 83),\n",
        " (u'los angeles times http', 62),\n",
        " (u'don\\\\u2019t need', 58),\n",
        " (u\"i 'm\", 56),\n",
        " (u'# 100days100nights thing', 56),\n",
        " (u'# 100days100nights shit', 54),\n",
        " (u'vicious feuds', 54),\n",
        " (u'\\\\u2026 \\\\u2013 los angeles times http', 49),\n",
        " (u'street gangs', 41),\n",
        " (u'# 100days100nights hashtag', 40),\n",
        " (u'los angeles', 37),\n",
        " (u\"u'is # 100days100nights\", 33),\n",
        " (u'gang war', 33)]"
       ]
      }
     ],
     "prompt_number": 78
    },
    {
     "cell_type": "code",
     "collapsed": false,
     "input": [
      "Counter(blob.sentences).most_common(10)"
     ],
     "language": "python",
     "metadata": {},
     "outputs": [
      {
       "metadata": {},
       "output_type": "pyout",
       "prompt_number": 82,
       "text": [
        "[(Sentence(\"no one\\u2019s safe!\"), 16),\n",
        " (Sentence(\"spread the word .\"), 5),\n",
        " (Sentence(\"be safe la.\"), 3),\n",
        " (Sentence(\"#100days100nights is no joke.\"), 3),\n",
        " (Sentence(\"stay safe la.\"), 3),\n",
        " (Sentence(\"', u'l.a.\"), 2),\n",
        " (Sentence(\".\"), 2),\n",
        " (Sentence(\"stop the violence.\"), 2),\n",
        " (Sentence(\"what?\"), 2),\n",
        " (Sentence(\"#100days100nights?\"), 2)]"
       ]
      }
     ],
     "prompt_number": 82
    },
    {
     "cell_type": "code",
     "collapsed": false,
     "input": [
      "blob.sentiment"
     ],
     "language": "python",
     "metadata": {},
     "outputs": [
      {
       "metadata": {},
       "output_type": "pyout",
       "prompt_number": 83,
       "text": [
        "Sentiment(polarity=0.011089041928717786, subjectivity=0.443062427437876)"
       ]
      }
     ],
     "prompt_number": 83
    },
    {
     "cell_type": "code",
     "collapsed": false,
     "input": [],
     "language": "python",
     "metadata": {},
     "outputs": [],
     "prompt_number": 203
    },
    {
     "cell_type": "code",
     "collapsed": false,
     "input": [
      "df = pd.DataFrame({'Times':times, 'Texts':texts}) "
     ],
     "language": "python",
     "metadata": {},
     "outputs": [],
     "prompt_number": 204
    },
    {
     "cell_type": "code",
     "collapsed": false,
     "input": [
      "print df"
     ],
     "language": "python",
     "metadata": {},
     "outputs": [
      {
       "output_type": "stream",
       "stream": "stdout",
       "text": [
        "                                                  Texts       Times\n",
        "0     #Jetlounge. #100Days100Nights #NOLA. #CWMB3 ht...  2015-07-01\n",
        "1     #Jetlounge. #100Days100Nights #NOLA. #CWMB3 by...  2015-07-01\n",
        "2            #100Days100Nights. https://t.co/RFbxwpdbH8  2015-07-02\n",
        "3     #100Days100Nights #CWMB3 #freecalliopevar @ Me...  2015-07-02\n",
        "4     #storyofmylifeB3. #100Days100Nights #CWMB3 #JL...  2015-07-06\n",
        "5     #linkinbio #repost #100Days100Nights #CWMB3 #N...  2015-07-07\n",
        "6     #ColdWorldEmpire #100Days100Nights #internatio...  2015-07-08\n",
        "7     #100Days100Nights #internationalcorporation #C...  2015-07-09\n",
        "8     #100Days100Nights #internationalcorporation #C...  2015-07-11\n",
        "9     #tbthursday #100Days100Nights #comingsoon http...  2015-07-13\n",
        "10    #jetlounge #tonight #100Days100Nights #comings...  2015-07-15\n",
        "11                       #100days100nights STRAIGHT UP!  2015-07-18\n",
        "12        NH #100days100nights  https://t.co/s7LRplXRYN  2015-07-18\n",
        "13    Trampks Faggets Snoovas Snots\ud83d\udca5\ud83d\udca5\ud83d\udca5\ud83d\udca5\ud83d\udca5\ud83d\udca5\ud83d\udd2b #1...  2015-07-18\n",
        "14    A total of 6 people got killed yesterday #100d...  2015-07-19\n",
        "15    #100days100nights \u26a0\u26a0\u26a0 #LongLiveKP \ud83d\udcab\ud83c\udf20 https:/...  2015-07-18\n",
        "16    @KremewithaK for #100days100nights western bou...  2015-07-18\n",
        "17    Tha homies out here servin shit \ud83d\ude02\ud83d\ude2d\ud83d\ude02\ud83d\ude08 #100d...  2015-07-20\n",
        "18                R.I.P KP #100DAYS100NIGHTS FUC TRAMPS  2015-07-19\n",
        "19    #gettinItritr #nolahiphop #100days100nights #d...  2015-07-19\n",
        "20                                    #100DAYS100NIGHTS  2015-07-20\n",
        "21    PRAY FOR MY OWES SPOETY FOETYS TO DA HUNNITS #...  2015-07-21\n",
        "22                         LongLiveKP #100days100nights  2015-07-20\n",
        "23                                    #100days100nights  2015-07-21\n",
        "24    #100Days100Nights #internationalcorporation @ ...  2015-07-20\n",
        "25                                    #100days100nights  2015-07-20\n",
        "26    I'm so tired of seeing bitches tweet #100Days1...  2015-07-21\n",
        "27    #100Days100Nights they killed the wrong mothaf...  2015-07-21\n",
        "28    A #100Days100Nights\ud83d\ude34 LA getting Serious this ...  2015-07-21\n",
        "29    This doesn't even make sense, the R100's made ...  2015-07-23\n",
        "...                                                 ...         ...\n",
        "4152  It's a sad country we live in when folks hop o...  2015-07-31\n",
        "4153  How sad military men are dying for our freedom...  2015-07-31\n",
        "4154  #100days100nights fuels fear in South L.A. htt...  2015-07-31\n",
        "4155  I liked a @YouTube video from @mundanematt htt...  2015-07-31\n",
        "4156  Listen to the ending of #100days100nights it's...  2015-07-31\n",
        "4157  #100daysofPEACE100nightsofPEACE #UrbanPeace #1...  2015-07-31\n",
        "4158  @BinoRideaux #PrayForLA #longlivekp #100days10...  2015-07-31\n",
        "4159  #Ern\u00e4hrungstipps: #100Days100Nights in Los Ang...  2015-07-31\n",
        "4160  \u30ae\u30e3\u30f3\u30b0\u306e\u6297\u4e89\u3001\u4eca\u5f8c100\u65e5\u3067100\u4eba\u6bba\u5bb3\u3068\u306e\u3053\u3068\u3002\\n\u4e00\u822c\u4eba\u3082\u95a2\u4fc2\u306a\u304f\u6483\u305f\u308c\u3066\u3044\u308b\u6a21\u69d8\u3002\u5371...  2015-07-31\n",
        "4161  ALERT: Violent Street Gangs Launch Shocking Co...  2015-07-31\n",
        "4162  Same person who came up w/\u201cBlacks Rule\u201d RT @th...  2015-07-31\n",
        "4163  #100days100nights fuels fear in South L.A.: Th...  2015-07-31\n",
        "4164  I'll take  #DrakeVsMeek over #100days100nights...  2015-07-31\n",
        "4165  #100days100nights fuels fear in South LA - Los...  2015-07-31\n",
        "4166  #100days100nights Innocent ppl shouldn't have ...  2015-07-31\n",
        "4167  I think the #100days100nights hashtag was in r...  2015-07-31\n",
        "4168  Yes... It's the city's fault that Blacks won't...  2015-07-31\n",
        "4169  I promise you that #100days100nights is fake a...  2015-07-31\n",
        "4170  Wheres solid evidence that this #100Days100Nig...  2015-07-31\n",
        "4171               Pray for LA . #100days100nights \ud83d\ude4f\ud83c\udffc  2015-07-31\n",
        "4172                                  #100days100nights  2015-07-31\n",
        "4173  Is this real?\\n#100days100nights  https://t.co...  2015-07-31\n",
        "4174  Is the #100days100nights gang challenge in in ...  2015-07-31\n",
        "4175  While gangster are killing people w/ #100Days1...  2015-07-31\n",
        "4176  #100days100nights   @JustinTrudeau @HillaryCli...  2015-07-31\n",
        "4177  @J_2Exquisite @Drake #100Days100Nights Aye#Nor...  2015-07-31\n",
        "4178  @THR I will be back at 11:25pm. Let us conside...  2015-07-31\n",
        "4179  @JustinTrudeau @HillaryClinton @barrack__obama...  2015-07-31\n",
        "4180  @_vidabella @lethal_lindaa Alright, didn't kno...  2015-07-31\n",
        "4181  @THR K! @HilaryCrimLaw @Hit2Hitcom @obama_barr...  2015-07-31\n",
        "\n",
        "[4182 rows x 2 columns]\n"
       ]
      }
     ],
     "prompt_number": 205
    },
    {
     "cell_type": "code",
     "collapsed": false,
     "input": [
      "import matplotlib.pyplot as plt\n",
      "%matplotlib inline\n",
      "import numpy as np"
     ],
     "language": "python",
     "metadata": {},
     "outputs": [],
     "prompt_number": 177
    },
    {
     "cell_type": "code",
     "collapsed": false,
     "input": [],
     "language": "python",
     "metadata": {},
     "outputs": [],
     "prompt_number": 183
    },
    {
     "cell_type": "code",
     "collapsed": false,
     "input": [
      "df2 = df.sort(['Times'])"
     ],
     "language": "python",
     "metadata": {},
     "outputs": [],
     "prompt_number": 206
    },
    {
     "cell_type": "code",
     "collapsed": false,
     "input": [
      "print df2"
     ],
     "language": "python",
     "metadata": {},
     "outputs": [
      {
       "output_type": "stream",
       "stream": "stdout",
       "text": [
        "                                                  Texts       Times\n",
        "0     #Jetlounge. #100Days100Nights #NOLA. #CWMB3 ht...  2015-07-01\n",
        "1     #Jetlounge. #100Days100Nights #NOLA. #CWMB3 by...  2015-07-01\n",
        "2            #100Days100Nights. https://t.co/RFbxwpdbH8  2015-07-02\n",
        "3     #100Days100Nights #CWMB3 #freecalliopevar @ Me...  2015-07-02\n",
        "4     #storyofmylifeB3. #100Days100Nights #CWMB3 #JL...  2015-07-06\n",
        "5     #linkinbio #repost #100Days100Nights #CWMB3 #N...  2015-07-07\n",
        "6     #ColdWorldEmpire #100Days100Nights #internatio...  2015-07-08\n",
        "7     #100Days100Nights #internationalcorporation #C...  2015-07-09\n",
        "8     #100Days100Nights #internationalcorporation #C...  2015-07-11\n",
        "9     #tbthursday #100Days100Nights #comingsoon http...  2015-07-13\n",
        "10    #jetlounge #tonight #100Days100Nights #comings...  2015-07-15\n",
        "12        NH #100days100nights  https://t.co/s7LRplXRYN  2015-07-18\n",
        "11                       #100days100nights STRAIGHT UP!  2015-07-18\n",
        "16    @KremewithaK for #100days100nights western bou...  2015-07-18\n",
        "15    #100days100nights \u26a0\u26a0\u26a0 #LongLiveKP \ud83d\udcab\ud83c\udf20 https:/...  2015-07-18\n",
        "13    Trampks Faggets Snoovas Snots\ud83d\udca5\ud83d\udca5\ud83d\udca5\ud83d\udca5\ud83d\udca5\ud83d\udca5\ud83d\udd2b #1...  2015-07-18\n",
        "14    A total of 6 people got killed yesterday #100d...  2015-07-19\n",
        "19    #gettinItritr #nolahiphop #100days100nights #d...  2015-07-19\n",
        "18                R.I.P KP #100DAYS100NIGHTS FUC TRAMPS  2015-07-19\n",
        "22                         LongLiveKP #100days100nights  2015-07-20\n",
        "17    Tha homies out here servin shit \ud83d\ude02\ud83d\ude2d\ud83d\ude02\ud83d\ude08 #100d...  2015-07-20\n",
        "20                                    #100DAYS100NIGHTS  2015-07-20\n",
        "25                                    #100days100nights  2015-07-20\n",
        "24    #100Days100Nights #internationalcorporation @ ...  2015-07-20\n",
        "27    #100Days100Nights they killed the wrong mothaf...  2015-07-21\n",
        "26    I'm so tired of seeing bitches tweet #100Days1...  2015-07-21\n",
        "23                                    #100days100nights  2015-07-21\n",
        "21    PRAY FOR MY OWES SPOETY FOETYS TO DA HUNNITS #...  2015-07-21\n",
        "28    A #100Days100Nights\ud83d\ude34 LA getting Serious this ...  2015-07-21\n",
        "35                    #100days100nights of peace \ud83d\ude29\ud83d\ude4f\ud83c\udffd  2015-07-22\n",
        "...                                                 ...         ...\n",
        "4152  It's a sad country we live in when folks hop o...  2015-07-31\n",
        "4153  How sad military men are dying for our freedom...  2015-07-31\n",
        "4154  #100days100nights fuels fear in South L.A. htt...  2015-07-31\n",
        "4155  I liked a @YouTube video from @mundanematt htt...  2015-07-31\n",
        "4156  Listen to the ending of #100days100nights it's...  2015-07-31\n",
        "4157  #100daysofPEACE100nightsofPEACE #UrbanPeace #1...  2015-07-31\n",
        "4158  @BinoRideaux #PrayForLA #longlivekp #100days10...  2015-07-31\n",
        "4159  #Ern\u00e4hrungstipps: #100Days100Nights in Los Ang...  2015-07-31\n",
        "4160  \u30ae\u30e3\u30f3\u30b0\u306e\u6297\u4e89\u3001\u4eca\u5f8c100\u65e5\u3067100\u4eba\u6bba\u5bb3\u3068\u306e\u3053\u3068\u3002\\n\u4e00\u822c\u4eba\u3082\u95a2\u4fc2\u306a\u304f\u6483\u305f\u308c\u3066\u3044\u308b\u6a21\u69d8\u3002\u5371...  2015-07-31\n",
        "4161  ALERT: Violent Street Gangs Launch Shocking Co...  2015-07-31\n",
        "4162  Same person who came up w/\u201cBlacks Rule\u201d RT @th...  2015-07-31\n",
        "4163  #100days100nights fuels fear in South L.A.: Th...  2015-07-31\n",
        "4164  I'll take  #DrakeVsMeek over #100days100nights...  2015-07-31\n",
        "4165  #100days100nights fuels fear in South LA - Los...  2015-07-31\n",
        "4166  #100days100nights Innocent ppl shouldn't have ...  2015-07-31\n",
        "4167  I think the #100days100nights hashtag was in r...  2015-07-31\n",
        "4168  Yes... It's the city's fault that Blacks won't...  2015-07-31\n",
        "4169  I promise you that #100days100nights is fake a...  2015-07-31\n",
        "4170  Wheres solid evidence that this #100Days100Nig...  2015-07-31\n",
        "4171               Pray for LA . #100days100nights \ud83d\ude4f\ud83c\udffc  2015-07-31\n",
        "4172                                  #100days100nights  2015-07-31\n",
        "4173  Is this real?\\n#100days100nights  https://t.co...  2015-07-31\n",
        "4174  Is the #100days100nights gang challenge in in ...  2015-07-31\n",
        "4175  While gangster are killing people w/ #100Days1...  2015-07-31\n",
        "4176  #100days100nights   @JustinTrudeau @HillaryCli...  2015-07-31\n",
        "4177  @J_2Exquisite @Drake #100Days100Nights Aye#Nor...  2015-07-31\n",
        "4178  @THR I will be back at 11:25pm. Let us conside...  2015-07-31\n",
        "4179  @JustinTrudeau @HillaryClinton @barrack__obama...  2015-07-31\n",
        "4180  @_vidabella @lethal_lindaa Alright, didn't kno...  2015-07-31\n",
        "3964  Like we don't have enough gun violence and now...  2015-07-31\n",
        "\n",
        "[4182 rows x 2 columns]\n"
       ]
      }
     ],
     "prompt_number": 207
    },
    {
     "cell_type": "code",
     "collapsed": false,
     "input": [
      "df.groupby([df.index.date]).count()\n",
      "\n"
     ],
     "language": "python",
     "metadata": {},
     "outputs": [
      {
       "html": [
        "<div style=\"max-height:1000px;max-width:1500px;overflow:auto;\">\n",
        "<table border=\"1\" class=\"dataframe\">\n",
        "  <thead>\n",
        "    <tr style=\"text-align: right;\">\n",
        "      <th></th>\n",
        "      <th>day</th>\n",
        "    </tr>\n",
        "  </thead>\n",
        "  <tbody>\n",
        "    <tr>\n",
        "      <th>2015-07-01</th>\n",
        "      <td>    2</td>\n",
        "    </tr>\n",
        "    <tr>\n",
        "      <th>2015-07-02</th>\n",
        "      <td>    2</td>\n",
        "    </tr>\n",
        "    <tr>\n",
        "      <th>2015-07-06</th>\n",
        "      <td>    1</td>\n",
        "    </tr>\n",
        "    <tr>\n",
        "      <th>2015-07-07</th>\n",
        "      <td>    1</td>\n",
        "    </tr>\n",
        "    <tr>\n",
        "      <th>2015-07-08</th>\n",
        "      <td>    1</td>\n",
        "    </tr>\n",
        "    <tr>\n",
        "      <th>2015-07-09</th>\n",
        "      <td>    1</td>\n",
        "    </tr>\n",
        "    <tr>\n",
        "      <th>2015-07-11</th>\n",
        "      <td>    1</td>\n",
        "    </tr>\n",
        "    <tr>\n",
        "      <th>2015-07-13</th>\n",
        "      <td>    1</td>\n",
        "    </tr>\n",
        "    <tr>\n",
        "      <th>2015-07-15</th>\n",
        "      <td>    1</td>\n",
        "    </tr>\n",
        "    <tr>\n",
        "      <th>2015-07-18</th>\n",
        "      <td>    5</td>\n",
        "    </tr>\n",
        "    <tr>\n",
        "      <th>2015-07-19</th>\n",
        "      <td>    3</td>\n",
        "    </tr>\n",
        "    <tr>\n",
        "      <th>2015-07-20</th>\n",
        "      <td>    5</td>\n",
        "    </tr>\n",
        "    <tr>\n",
        "      <th>2015-07-21</th>\n",
        "      <td>    5</td>\n",
        "    </tr>\n",
        "    <tr>\n",
        "      <th>2015-07-22</th>\n",
        "      <td>    9</td>\n",
        "    </tr>\n",
        "    <tr>\n",
        "      <th>2015-07-23</th>\n",
        "      <td>   15</td>\n",
        "    </tr>\n",
        "    <tr>\n",
        "      <th>2015-07-24</th>\n",
        "      <td>   30</td>\n",
        "    </tr>\n",
        "    <tr>\n",
        "      <th>2015-07-25</th>\n",
        "      <td>   62</td>\n",
        "    </tr>\n",
        "    <tr>\n",
        "      <th>2015-07-26</th>\n",
        "      <td>  171</td>\n",
        "    </tr>\n",
        "    <tr>\n",
        "      <th>2015-07-27</th>\n",
        "      <td> 1189</td>\n",
        "    </tr>\n",
        "    <tr>\n",
        "      <th>2015-07-28</th>\n",
        "      <td> 1033</td>\n",
        "    </tr>\n",
        "    <tr>\n",
        "      <th>2015-07-29</th>\n",
        "      <td>  859</td>\n",
        "    </tr>\n",
        "    <tr>\n",
        "      <th>2015-07-30</th>\n",
        "      <td>  567</td>\n",
        "    </tr>\n",
        "    <tr>\n",
        "      <th>2015-07-31</th>\n",
        "      <td>  218</td>\n",
        "    </tr>\n",
        "  </tbody>\n",
        "</table>\n",
        "</div>"
       ],
       "metadata": {},
       "output_type": "pyout",
       "prompt_number": 226,
       "text": [
        "             day\n",
        "2015-07-01     2\n",
        "2015-07-02     2\n",
        "2015-07-06     1\n",
        "2015-07-07     1\n",
        "2015-07-08     1\n",
        "2015-07-09     1\n",
        "2015-07-11     1\n",
        "2015-07-13     1\n",
        "2015-07-15     1\n",
        "2015-07-18     5\n",
        "2015-07-19     3\n",
        "2015-07-20     5\n",
        "2015-07-21     5\n",
        "2015-07-22     9\n",
        "2015-07-23    15\n",
        "2015-07-24    30\n",
        "2015-07-25    62\n",
        "2015-07-26   171\n",
        "2015-07-27  1189\n",
        "2015-07-28  1033\n",
        "2015-07-29   859\n",
        "2015-07-30   567\n",
        "2015-07-31   218"
       ]
      }
     ],
     "prompt_number": 226
    },
    {
     "cell_type": "code",
     "collapsed": false,
     "input": [
      "df.groupby([df.index.date]).count().plot(kind='bar')"
     ],
     "language": "python",
     "metadata": {},
     "outputs": [
      {
       "metadata": {},
       "output_type": "pyout",
       "prompt_number": 222,
       "text": [
        "<matplotlib.axes._subplots.AxesSubplot at 0x14585ae50>"
       ]
      },
      {
       "metadata": {},
       "output_type": "display_data",
       "png": "[encoded data removed]",
       "text": [
        "<matplotlib.figure.Figure at 0x145798fd0>"
       ]
      }
     ],
     "prompt_number": 222
    },
    {
     "cell_type": "code",
     "collapsed": false,
     "input": [
      "words per day and how they change over time "
     ],
     "language": "python",
     "metadata": {},
     "outputs": []
    }
   ],
   "metadata": {}
  }
 ]
}