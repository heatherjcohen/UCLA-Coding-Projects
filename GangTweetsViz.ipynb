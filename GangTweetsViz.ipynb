{
 "metadata": {
  "name": "",
  "signature": "sha256:52331737df617371459dd78ff41ac93572e0c334711f7e105e21bb1a47203a4b"
 },
 "nbformat": 3,
 "nbformat_minor": 0,
 "worksheets": [
  {
   "cells": [
    {
     "cell_type": "code",
     "collapsed": false,
     "input": [
      "import json\n",
      "import pandas as pd\n",
      "import matplotlib.pyplot as plt\n",
      "%matplotlib inline\n",
      "import numpy as np"
     ],
     "language": "python",
     "metadata": {},
     "outputs": [],
     "prompt_number": 6
    },
    {
     "cell_type": "code",
     "collapsed": false,
     "input": [
      "tweets = []\n",
      "try:\n",
      "    for line in open('tweets.txt', 'r'):\n",
      "        if line.strip():\n",
      "            tweets.append(json.loads(line))\n",
      "    \n",
      "except ValueError as detail:  # includes simplejson.decoder.JSONDecodeError\n",
      "    print 'Decoding JSON has failed', detail"
     ],
     "language": "python",
     "metadata": {},
     "outputs": [],
     "prompt_number": 2
    },
    {
     "cell_type": "code",
     "collapsed": false,
     "input": [
      "texts = [tweet['tweet']['text'] for tweet in tweets]\n",
      "import time\n",
      "times = []\n",
      "for tweet in tweets:\n",
      "    #times.append(tweet['tweet']['text'])\n",
      "    times.append(time.strftime('%Y-%m-%d', time.localtime(tweet['firstpost_date'])))\n",
      "    \n"
     ],
     "language": "python",
     "metadata": {},
     "outputs": [],
     "prompt_number": 108
    },
    {
     "cell_type": "code",
     "collapsed": false,
     "input": [
      "df = pd.DataFrame({'Texts':texts}, index=times,) "
     ],
     "language": "python",
     "metadata": {},
     "outputs": [],
     "prompt_number": 69
    },
    {
     "cell_type": "code",
     "collapsed": false,
     "input": [
      "df2 =df.groupby([df.index]).count()"
     ],
     "language": "python",
     "metadata": {},
     "outputs": [],
     "prompt_number": 70
    },
    {
     "cell_type": "code",
     "collapsed": false,
     "input": [
      "print df2"
     ],
     "language": "python",
     "metadata": {},
     "outputs": [
      {
       "output_type": "stream",
       "stream": "stdout",
       "text": [
        "            Texts\n",
        "2015-07-01      2\n",
        "2015-07-02      2\n",
        "2015-07-06      1\n",
        "2015-07-07      1\n",
        "2015-07-08      1\n",
        "2015-07-09      1\n",
        "2015-07-11      1\n",
        "2015-07-13      1\n",
        "2015-07-15      1\n",
        "2015-07-18      5\n",
        "2015-07-19      3\n",
        "2015-07-20      5\n",
        "2015-07-21      5\n",
        "2015-07-22      9\n",
        "2015-07-23     15\n",
        "2015-07-24     30\n",
        "2015-07-25     62\n",
        "2015-07-26    171\n",
        "2015-07-27   1189\n",
        "2015-07-28   1033\n",
        "2015-07-29    859\n",
        "2015-07-30    567\n",
        "2015-07-31    218\n"
       ]
      }
     ],
     "prompt_number": 37
    },
    {
     "cell_type": "code",
     "collapsed": false,
     "input": [
      "df2.plot()"
     ],
     "language": "python",
     "metadata": {},
     "outputs": [
      {
       "metadata": {},
       "output_type": "pyout",
       "prompt_number": 38,
       "text": [
        "<matplotlib.axes._subplots.AxesSubplot at 0x15f971090>"
       ]
      },
      {
       "metadata": {},
       "output_type": "display_data",
       "png": "[encoded data removed]",
       "text": [
        "<matplotlib.figure.Figure at 0x15f92e810>"
       ]
      }
     ],
     "prompt_number": 38
    },
    {
     "cell_type": "code",
     "collapsed": false,
     "input": [
      "df.groupby([df.index]).count().plot(kind='bar')\n",
      " "
     ],
     "language": "python",
     "metadata": {},
     "outputs": [
      {
       "metadata": {},
       "output_type": "pyout",
       "prompt_number": 41,
       "text": [
        "<matplotlib.axes._subplots.AxesSubplot at 0x164069bd0>"
       ]
      },
      {
       "metadata": {},
       "output_type": "display_data",
       "png": "[encoded data removed]",
       "text": [
        "<matplotlib.figure.Figure at 0x164034310>"
       ]
      }
     ],
     "prompt_number": 41
    },
    {
     "cell_type": "code",
     "collapsed": false,
     "input": [
      "import re\n",
      "\n",
      "vcounts = []\n",
      "try:\n",
      "    for line in texts:\n",
      "        vcounts.append(line.count('violence', re.IGNORECASE))\n",
      "    \n",
      "except ValueError as detail:  \n",
      "    print 'fail?', detail\n",
      "    \n",
      "print len(vcounts)\n",
      "\n",
      "mcounts = []\n",
      "try:\n",
      "    for line in texts:\n",
      "        mcounts.append(line.count('murder', re.IGNORECASE))\n",
      "    \n",
      "except ValueError as detail:  \n",
      "    print 'fail?', detail\n",
      "    \n",
      "print len(mcounts)\n",
      "\n",
      "kcounts = []\n",
      "try:\n",
      "    for line in texts:\n",
      "        kcounts.append(line.count('kill', re.IGNORECASE))\n",
      "    \n",
      "except ValueError as detail:  \n",
      "    print 'fail?', detail\n",
      "    \n",
      "    \n",
      "kkcounts = []\n",
      "try:\n",
      "    for line in texts:\n",
      "        kkcounts.append(line.count('killing', re.IGNORECASE))\n",
      "    \n",
      "except ValueError as detail:  \n",
      "    print 'fail?', detail"
     ],
     "language": "python",
     "metadata": {},
     "outputs": [
      {
       "output_type": "stream",
       "stream": "stdout",
       "text": [
        "4182\n",
        "4182\n"
       ]
      }
     ],
     "prompt_number": 12
    },
    {
     "cell_type": "code",
     "collapsed": false,
     "input": [
      "df3 = pd.DataFrame({ 'Violence Count':vcounts, 'Murder Count':mcounts, 'Kill Counts':kcounts, \"Killing Counts\":kkcounts}, index=times) "
     ],
     "language": "python",
     "metadata": {},
     "outputs": [],
     "prompt_number": 54
    },
    {
     "cell_type": "code",
     "collapsed": false,
     "input": [
      "sumdf = df3.groupby(df3.index).sum()\n"
     ],
     "language": "python",
     "metadata": {},
     "outputs": [],
     "prompt_number": 88
    },
    {
     "cell_type": "code",
     "collapsed": false,
     "input": [
      "sumdf.plot(kind='bar')"
     ],
     "language": "python",
     "metadata": {},
     "outputs": [
      {
       "metadata": {},
       "output_type": "pyout",
       "prompt_number": 89,
       "text": [
        "<matplotlib.axes._subplots.AxesSubplot at 0x178974ed0>"
       ]
      },
      {
       "metadata": {},
       "output_type": "display_data",
       "png": "[encoded data removed]",
       "text": [
        "<matplotlib.figure.Figure at 0x1ba42a2d0>"
       ]
      }
     ],
     "prompt_number": 89
    },
    {
     "cell_type": "code",
     "collapsed": false,
     "input": [
      "#df4 = pd.DataFrame({vcounts, times} ,columns=['a', 'b'])\n",
      "\n",
      "#df4.plot(kind='bar');\n",
      " "
     ],
     "language": "python",
     "metadata": {},
     "outputs": [],
     "prompt_number": 90
    },
    {
     "cell_type": "code",
     "collapsed": false,
     "input": [
      "fcounts = []\n",
      "try:\n",
      "    for line in texts:\n",
      "        fcounts.append(line.count('fear', re.IGNORECASE))\n",
      "    \n",
      "except ValueError as detail:  \n",
      "    print 'fail?', detail\n",
      "    \n",
      "print len(fcounts)\n",
      "\n",
      "threatcounts = []\n",
      "try:\n",
      "    for line in texts:\n",
      "        threatcounts.append(line.count('threat', re.IGNORECASE))\n",
      "    \n",
      "except ValueError as detail:  \n",
      "    print 'fail?', detail\n",
      "    \n",
      "print len(threatcounts)\n",
      "\n",
      "\n",
      "safecounts = []\n",
      "try:\n",
      "    for line in texts:\n",
      "        safecounts.append(line.count('safe', re.IGNORECASE))\n",
      "    \n",
      "except ValueError as detail:  \n",
      "    print 'fail?', detail\n",
      "    \n",
      "print len(safecounts)\n",
      "\n",
      "\n",
      "becounts = []\n",
      "try:\n",
      "    for line in texts:\n",
      "        becounts.append(line.count('be', re.IGNORECASE))\n",
      "    \n",
      "except ValueError as detail:  \n",
      "    print 'fail?', detail\n",
      "    \n",
      "print len(becounts)\n",
      "\n",
      "\n",
      "praycounts = []\n",
      "try:\n",
      "    for line in texts:\n",
      "        praycounts.append(line.count('pray', re.IGNORECASE))\n",
      "    \n",
      "except ValueError as detail:  \n",
      "    print 'fail?', detail\n",
      "    \n",
      "print sum(praycounts)\n",
      "\n",
      "\n",
      "prayLAcounts = []\n",
      "try:\n",
      "    for line in texts:\n",
      "        prayLAcounts.append(line.count('pray for LA', re.IGNORECASE))\n",
      "    \n",
      "except ValueError as detail:  \n",
      "    print 'fail?', detail\n",
      "    \n",
      "print sum(prayLAcounts)"
     ],
     "language": "python",
     "metadata": {},
     "outputs": [
      {
       "output_type": "stream",
       "stream": "stdout",
       "text": [
        "4182\n",
        "4182\n",
        "4182\n",
        "4182\n",
        "165\n",
        "64\n"
       ]
      }
     ],
     "prompt_number": 16
    },
    {
     "cell_type": "code",
     "collapsed": false,
     "input": [
      "df4 = pd.DataFrame({ 'Fear Counts':fcounts, 'Threat Count':threatcounts, 'Safe':safecounts, \"Be Counts\":becounts , \"Pray Counts\":praycounts , \"Pray For LA Counts\":prayLAcounts}, index=times) "
     ],
     "language": "python",
     "metadata": {},
     "outputs": [],
     "prompt_number": 91
    },
    {
     "cell_type": "code",
     "collapsed": false,
     "input": [
      "sumdf2 = df4.groupby(df4.index).sum()"
     ],
     "language": "python",
     "metadata": {},
     "outputs": [],
     "prompt_number": 92
    },
    {
     "cell_type": "code",
     "collapsed": false,
     "input": [
      "sumdf2.plot(kind='bar')"
     ],
     "language": "python",
     "metadata": {},
     "outputs": [
      {
       "metadata": {},
       "output_type": "pyout",
       "prompt_number": 93,
       "text": [
        "<matplotlib.axes._subplots.AxesSubplot at 0x1b6412190>"
       ]
      },
      {
       "metadata": {},
       "output_type": "display_data",
       "png": "[encoded data removed]",
       "text": [
        "<matplotlib.figure.Figure at 0x18b7b5d50>"
       ]
      }
     ],
     "prompt_number": 93
    },
    {
     "cell_type": "code",
     "collapsed": false,
     "input": [
      "bullshitcounts = []\n",
      "try:\n",
      "    for line in texts:\n",
      "        bullshitcounts.append(line.count('bullshit', re.IGNORECASE))\n",
      "    \n",
      "except ValueError as detail:  \n",
      "    print 'fail?', detail\n",
      "    \n",
      "print len(bullshitcounts)\n",
      "\n",
      "\n",
      "shitcounts = []\n",
      "try:\n",
      "    for line in texts:\n",
      "        shitcounts.append(line.count('shit', re.IGNORECASE))\n",
      "    \n",
      "except ValueError as detail:  \n",
      "    print 'fail?', detail\n",
      "    \n",
      "print len(shitcounts)\n",
      "\n",
      "probcounts = []\n",
      "try:\n",
      "    for line in texts:\n",
      "        probcounts.append(line.count('probably', re.IGNORECASE))\n",
      "    \n",
      "except ValueError as detail:  \n",
      "    print 'fail?', detail\n",
      "    \n",
      "print len(probcounts)\n",
      "\n",
      "realcounts = []\n",
      "try:\n",
      "    for line in texts:\n",
      "        realcounts.append(line.count('real', re.IGNORECASE))\n",
      "    \n",
      "except ValueError as detail:  \n",
      "    print 'fail?', detail\n",
      "    \n",
      "print len(realcounts)"
     ],
     "language": "python",
     "metadata": {},
     "outputs": [
      {
       "output_type": "stream",
       "stream": "stdout",
       "text": [
        "4182\n",
        "4182\n",
        "4182\n",
        "4182\n"
       ]
      }
     ],
     "prompt_number": 94
    },
    {
     "cell_type": "code",
     "collapsed": false,
     "input": [
      "df5 = pd.DataFrame({ 'Bullshit Counts':bullshitcounts, 'Shit Count':shitcounts, 'Probably Counts':probcounts, \"Real Counts\":realcounts}, index=times) "
     ],
     "language": "python",
     "metadata": {},
     "outputs": [],
     "prompt_number": 95
    },
    {
     "cell_type": "code",
     "collapsed": false,
     "input": [
      "sumdf3 = df5.groupby(df5.index).sum()"
     ],
     "language": "python",
     "metadata": {},
     "outputs": [],
     "prompt_number": 96
    },
    {
     "cell_type": "code",
     "collapsed": false,
     "input": [
      "sumdf3.plot(kind='bar')"
     ],
     "language": "python",
     "metadata": {},
     "outputs": [
      {
       "metadata": {},
       "output_type": "pyout",
       "prompt_number": 97,
       "text": [
        "<matplotlib.axes._subplots.AxesSubplot at 0x18d242b10>"
       ]
      },
      {
       "metadata": {},
       "output_type": "display_data",
       "png": "[encoded data removed]",
       "text": [
        "<matplotlib.figure.Figure at 0x190cf6dd0>"
       ]
      }
     ],
     "prompt_number": 97
    },
    {
     "cell_type": "code",
     "collapsed": false,
     "input": [
      "gangcounts = []\n",
      "try:\n",
      "    for line in texts:\n",
      "        gangcounts.append(line.count('gang', re.IGNORECASE))\n",
      "    \n",
      "except ValueError as detail:  \n",
      "    print 'fail?', detail\n",
      "    \n",
      "print len(gangcounts)\n",
      "\n",
      "\n",
      "gangscounts = []\n",
      "try:\n",
      "    for line in texts:\n",
      "        gangscounts.append(line.count('gangs', re.IGNORECASE))\n",
      "    \n",
      "except ValueError as detail:  \n",
      "    print 'fail?', detail\n",
      "    \n",
      "print len(gangscounts)\n"
     ],
     "language": "python",
     "metadata": {},
     "outputs": [
      {
       "output_type": "stream",
       "stream": "stdout",
       "text": [
        "4182\n",
        "4182\n"
       ]
      }
     ],
     "prompt_number": 100
    },
    {
     "cell_type": "code",
     "collapsed": false,
     "input": [
      "df6 = pd.DataFrame({ 'Gang Counts':gangcounts, 'Gangs Count':gangscounts}, index=times) "
     ],
     "language": "python",
     "metadata": {},
     "outputs": [],
     "prompt_number": 101
    },
    {
     "cell_type": "code",
     "collapsed": false,
     "input": [
      "sumdf4 = df6.groupby(df6.index).sum()"
     ],
     "language": "python",
     "metadata": {},
     "outputs": [],
     "prompt_number": 102
    },
    {
     "cell_type": "code",
     "collapsed": false,
     "input": [
      "sumdf4.plot(kind='bar')"
     ],
     "language": "python",
     "metadata": {},
     "outputs": [
      {
       "metadata": {},
       "output_type": "pyout",
       "prompt_number": 103,
       "text": [
        "<matplotlib.axes._subplots.AxesSubplot at 0x194ba2dd0>"
       ]
      },
      {
       "metadata": {},
       "output_type": "display_data",
       "png": "[encoded data removed]",
       "text": [
        "<matplotlib.figure.Figure at 0x193808a90>"
       ]
      }
     ],
     "prompt_number": 103
    },
    {
     "cell_type": "code",
     "collapsed": false,
     "input": [
      "\n",
      "\n",
      "timescounts = []\n",
      "try:\n",
      "    for line in texts:\n",
      "        timescounts.append(line.count('times', re.IGNORECASE))\n",
      "    \n",
      "except ValueError as detail:  \n",
      "    print 'fail?', detail\n",
      "    \n",
      "print len(timescounts)\n",
      "\n",
      "losangelestimescounts = []\n",
      "try:\n",
      "    for line in texts:\n",
      "        losangelestimescounts.append(line.count('los angeles times', re.IGNORECASE))\n",
      "    \n",
      "except ValueError as detail:  \n",
      "    print 'fail?', detail\n",
      "    \n",
      "print len(losangelestimescounts)\n",
      "\n",
      "\n",
      "LAtimescounts = []\n",
      "try:\n",
      "    for line in texts:\n",
      "        LAtimescounts.append(line.count('la times', re.IGNORECASE))\n",
      "    \n",
      "except ValueError as detail:  \n",
      "    print 'fail?', detail\n",
      "    \n",
      "print len(LAtimescounts)"
     ],
     "language": "python",
     "metadata": {},
     "outputs": [
      {
       "output_type": "stream",
       "stream": "stdout",
       "text": [
        "4182\n",
        "4182\n",
        "4182\n"
       ]
      }
     ],
     "prompt_number": 125
    },
    {
     "cell_type": "code",
     "collapsed": false,
     "input": [
      "df7 = pd.DataFrame({'Los Angeles Times Counts':losangelestimescounts, 'LA Times Counts':LAtimescounts, 'Times Count':timescounts}, index=times) "
     ],
     "language": "python",
     "metadata": {},
     "outputs": [],
     "prompt_number": 126
    },
    {
     "cell_type": "code",
     "collapsed": false,
     "input": [
      "sumdf5 = df7.groupby(df7.index).sum()\n"
     ],
     "language": "python",
     "metadata": {},
     "outputs": [],
     "prompt_number": 127
    },
    {
     "cell_type": "code",
     "collapsed": false,
     "input": [
      "sumdf5.plot(kind='bar')"
     ],
     "language": "python",
     "metadata": {},
     "outputs": [
      {
       "metadata": {},
       "output_type": "pyout",
       "prompt_number": 128,
       "text": [
        "<matplotlib.axes._subplots.AxesSubplot at 0x1a908f0d0>"
       ]
      },
      {
       "metadata": {},
       "output_type": "display_data",
       "png": "[encoded data removed]",
       "text": [
        "<matplotlib.figure.Figure at 0x1bc3b1090>"
       ]
      }
     ],
     "prompt_number": 128
    },
    {
     "cell_type": "code",
     "collapsed": false,
     "input": [],
     "language": "python",
     "metadata": {},
     "outputs": []
    }
   ],
   "metadata": {}
  }
 ]
}